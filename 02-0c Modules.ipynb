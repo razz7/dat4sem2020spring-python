{
 "cells": [
  {
   "cell_type": "markdown",
   "metadata": {},
   "source": [
    "# Modules\n",
    "\n",
    "One advantage of functions is the way they separate blocks of code from your main program. By using descriptive names for your functions, your main program will be much easier to follow. You can go a step further by storing your functions in a separate file called a module and then importing that module into your main program. An import statement tells Python to make the code in a module available in the currently running program file.\n",
    "\n",
    "Storing your functions in a separate file allows you to hide the details of your program’s code and focus on its higher-level logic. It also allows you to reuse functions in many different programs. When you store your functions in separate files, you can share those files with other programmers without having to share your entire program. Knowing how to `import` functions also allows you to use libraries of functions that other programmers have written.\n",
    "\n",
    "## Importing an Entire Module\n",
    "\n",
    "To start importing functions, we first need to create a module. A module is a file ending in `.py` that contains the code you want to import into your program.\n",
    "\n",
    "To call a function from an imported module, enter the name of the module you imported followed by the name of the function separated by a dot.\n",
    "\n",
    "In the following examples, we import entire modules, which makes every function from the module available in your program."
   ]
  },
  {
   "cell_type": "code",
   "execution_count": 1,
   "metadata": {
    "collapsed": true
   },
   "outputs": [],
   "source": [
    "import os\n",
    "\n",
    "# Get help on a module\n",
    "os?\n",
    "\n",
    "os.makedirs?\n",
    "\n",
    "os.makedirs('./test_dir')"
   ]
  },
  {
   "cell_type": "markdown",
   "metadata": {},
   "source": [
    "Let's have a look into the `os` module.\n",
    "\n",
    "On the command line:\n",
    "\n",
    "  * `which python` tells you where your Python is installed, it says something like `/path/to/anaconda3/bin/python`\n",
    "  * open with your editor the file `/path/to/lib/python3.7/os.py`\n",
    "  * navigate to line 196\n",
    "  \n",
    "Inspect what is going on in this function."
   ]
  },
  {
   "cell_type": "code",
   "execution_count": 35,
   "metadata": {},
   "outputs": [
    {
     "name": "stdout",
     "output_type": "stream",
     "text": [
      "0 5\n",
      "1 1\n",
      "2 5\n",
      "3 2\n",
      "4 2\n",
      "5 2\n",
      "6 5\n",
      "7 3\n",
      "8 4\n",
      "9 6\n"
     ]
    }
   ],
   "source": [
    "import random\n",
    "\n",
    "for idx in range(0,10):\n",
    "    dice = random.choice([1, 2, 3, 4, 5, 6])\n",
    "    print(idx, dice)"
   ]
  },
  {
   "cell_type": "markdown",
   "metadata": {},
   "source": [
    "### Module Aliases\n",
    "\n",
    "You can also provide an alias for a module name. Giving a module a short alias.\n",
    "\n",
    "Calling the functions via a module alias is not only more concise it also redirects your attention from the module name and allows you to focus on the descriptive names of the functions. The function names, which clearly tell you what each function does, are more important to the readability of your code than using the full module name.\n",
    "\n",
    "The general syntax for this approach is:\n",
    "\n",
    "```python\n",
    "import module_name as mn\n",
    "```"
   ]
  },
  {
   "cell_type": "code",
   "execution_count": 43,
   "metadata": {},
   "outputs": [
    {
     "data": {
      "text/plain": [
       "2"
      ]
     },
     "execution_count": 43,
     "metadata": {},
     "output_type": "execute_result"
    }
   ],
   "source": [
    "import random as r\n",
    "\n",
    "r.choice([1, 2, 3, 4, 5, 6])"
   ]
  },
  {
   "cell_type": "markdown",
   "metadata": {},
   "source": [
    "### Importing All Functions in a Module\n",
    "\n",
    "You can tell Python to import every function in a module by using the asterisk (`*`) operator.\n",
    "   \n",
    "The asterisk in the `import` statement tells Python to copy every function from the module into this program file. Because every function is imported, you can call each function by name without using the dot notation. However, it is best not to use this approach when you are working with larger modules that you did not write yourself: if the module has a function name that matches an existing name in your project, you can get some unexpected results. Python may see several functions or variables with the same name, and instead of importing all the functions separately, it will overwrite the functions.\n",
    "\n",
    "The best approach is to import the function or functions you want, or import the entire module and use the dot notation. This leads to clear code that is easy to read and understand. I include this section so you will recognize `import` statements like the following when you see them in other people’s code:\n",
    "\n",
    "```python\n",
    "from module_name import *\n",
    "```"
   ]
  },
  {
   "cell_type": "code",
   "execution_count": 47,
   "metadata": {},
   "outputs": [
    {
     "name": "stdout",
     "output_type": "stream",
     "text": [
      "3.141592653589793\n",
      "-1.0\n"
     ]
    }
   ],
   "source": [
    "from math import *\n",
    "\n",
    "print(pi)\n",
    "print(cos(pi))"
   ]
  },
  {
   "cell_type": "markdown",
   "metadata": {},
   "source": [
    "## Importing Specific Functions\n",
    "\n",
    "You can also import a specific function from a module. Here’s the general syntax for this approach:\n",
    "\n",
    "```python\n",
    "from module_name import function_name\n",
    "```\n",
    "\n",
    "You can import as many functions as you want from a module by separating each function’s name with a comma:\n",
    "\n",
    "```python\n",
    "from module_name import function_0, function_1, function_2\n",
    "```"
   ]
  },
  {
   "cell_type": "code",
   "execution_count": 36,
   "metadata": {},
   "outputs": [
    {
     "data": {
      "text/plain": [
       "4"
      ]
     },
     "execution_count": 36,
     "metadata": {},
     "output_type": "execute_result"
    }
   ],
   "source": [
    "from random import choice\n",
    "\n",
    "choice([1, 2, 3, 4, 5, 6])"
   ]
  },
  {
   "cell_type": "code",
   "execution_count": 41,
   "metadata": {},
   "outputs": [
    {
     "data": {
      "text/plain": [
       "22"
      ]
     },
     "execution_count": 41,
     "metadata": {},
     "output_type": "execute_result"
    }
   ],
   "source": [
    "from random import choice, randrange\n",
    "\n",
    "end = choice([10, 20, 30, 40, 50, 60])\n",
    "# Choose a random item from range(start, stop[, step]).\n",
    "randrange(1, end)"
   ]
  },
  {
   "cell_type": "markdown",
   "metadata": {},
   "source": [
    "With this syntax, you do not need to use the dot notation when you call a function. Because we have explicitly imported the function in the `import` statement, we can call it by name when we use the function.\n",
    "\n",
    "However, using the full name makes for more readable code, so it is better to use the normal form of the import statement."
   ]
  },
  {
   "cell_type": "markdown",
   "metadata": {},
   "source": [
    "### Function Aliases\n",
    "\n",
    "If the name of a function you are importing might conflict with an existing name in your program or if the function name is long, you can use a short, unique alias —an alternate name similar to a nickname for the function. You will give the function this special nickname when you import the function.\n",
    "\n",
    "The general syntax for providing an alias is:\n",
    "\n",
    "```python \n",
    "from module_name import function_name as fn\n",
    "```"
   ]
  },
  {
   "cell_type": "code",
   "execution_count": 77,
   "metadata": {},
   "outputs": [
    {
     "data": {
      "text/plain": [
       "2"
      ]
     },
     "execution_count": 77,
     "metadata": {},
     "output_type": "execute_result"
    }
   ],
   "source": [
    "from random import choice as ch\n",
    "from random import randrange as rr\n",
    "\n",
    "end = ch([10, 20, 30, 40, 50, 60])\n",
    "rr(1, end)"
   ]
  },
  {
   "cell_type": "code",
   "execution_count": 14,
   "metadata": {
    "collapsed": true
   },
   "outputs": [],
   "source": [
    "# This is only necessary in the notebook, when you want to reload \n",
    "# modules on which you are working\n",
    "%load_ext autoreload"
   ]
  },
  {
   "cell_type": "code",
   "execution_count": 68,
   "metadata": {},
   "outputs": [
    {
     "name": "stdout",
     "output_type": "stream",
     "text": [
      "Downloading file to ./2701-0.txt\n"
     ]
    }
   ],
   "source": [
    "%autoreload 2\n",
    "\n",
    "import webget\n",
    "\n",
    "moby_dick_url = 'http://www.gutenberg.org/files/2701/2701-0.txt'\n",
    "bones_in_london_url = 'http://www.gutenberg.org/cache/epub/27525/pg27525.txt'\n",
    "\n",
    "webget.download(moby_dick_url)"
   ]
  },
  {
   "cell_type": "code",
   "execution_count": 75,
   "metadata": {},
   "outputs": [
    {
     "name": "stdout",
     "output_type": "stream",
     "text": [
      "URMPF\n"
     ]
    }
   ],
   "source": [
    "from urllib.parse import urlparse\n",
    "\n",
    "result = urlparse('oioioi')\n",
    "if result.scheme and result.netloc and result.path:\n",
    "    print('Is URL')\n",
    "else:\n",
    "    print('URMPF')"
   ]
  },
  {
   "cell_type": "markdown",
   "metadata": {},
   "source": [
    "## Import function from sub folder\n",
    "The folder must have a file __init__.py (can just be an empty file) for python to accept it as a package.  \n",
    "The folder name and file name must adhere to python naming rules (start with letter and use only letters, number and _)\n",
    "To import file from a subfolder do this:\n",
    "1. in the subfolder create a file: __init__.py\n",
    "2. in you code: `from folder_name.file_name import func_name`"
   ]
  },
  {
   "cell_type": "markdown",
   "metadata": {},
   "source": [
    "# Exercises\n",
    "\n",
    "![](https://media.giphy.com/media/13rQ7rrTrvZXlm/giphy.gif)\n",
    "\n",
    "  2. Write a module `webget.py` that exposes a function to download a file from the web in case it does not exist locally already. The function shall have the following signature `download(url, to=None)` where the keyword argument `to` specifies where to save a file locally and with which name. If `to == None` then the file shall be saved in the current working directory `./` with the same name as it has at its origin. For example, calling your program as in the following\n",
    "\n",
    "  ```python\n",
    "  import webget\n",
    "\n",
    "  url = 'http://data.kk.dk/dataset/76ecf368-bf2d-46a2-bcf8-adaf37662528/resource/9286af17-f74e-46c9-a428-9fb707542189/download/befkbhalderstatkode.csv'\n",
    "  webget.download(url)\n",
    "  ```\n",
    "\n",
    "  will download the remote file to `./befkbhalderstatkode.csv`.\n",
    "\n",
    "  Likely, you will need functions from the standard library modules `os`, and `urllib`. For example, read the doc strings for the following functions and implement the given function stub with help of them.\n",
    "\n",
    "    * `os.path.isfile?`\n",
    "    * `os.path.join?`\n",
    "    * `os.path.basename?`\n",
    "    * `urllib.parse?` \n",
    "    * `urllib.request.urlretrieve?`\n",
    "  \n",
    "  \n",
    "  ```python\n",
    "  import os\n",
    "  import urllib.request as req\n",
    "  from urllib.parse import urlparse\n",
    "  \n",
    "  \n",
    "  def download(url, to=None):\n",
    "      \"\"\"Download a remote file specified by a URL to a \n",
    "      local directory.\n",
    "  \n",
    "      :param url: str\n",
    "          URL pointing to a remote file.\n",
    "          \n",
    "      :param to: str\n",
    "          Local path, absolute or relative, with a filename \n",
    "          to the file storing the contents of the remote file.\n",
    "      \"\"\"\n",
    "    \n",
    "      # TODO: Implement me!\n",
    "      pass\n",
    "  ```\n",
    "  "
   ]
  },
  {
   "cell_type": "code",
   "execution_count": 24,
   "metadata": {},
   "outputs": [
    {
     "data": {
      "text/plain": [
       "ParseResult(scheme='https', netloc='docs.python.org', path='/3/library/urllib.parse.html', params='', query='', fragment='module-urllib.parse')"
      ]
     },
     "execution_count": 24,
     "metadata": {},
     "output_type": "execute_result"
    }
   ],
   "source": [
    "from urllib.parse import urlparse\n",
    "url = 'http://data.kk.dk/dataset/76ecf368-bf2d-46a2-bcf8-adaf37662528/resource/9286af17-f74e-46c9-a428-9fb707542189/download/befkbhalderstatkode.csv'\n",
    "parsed_python_url = urlparse('https://docs.python.org/3/library/urllib.parse.html#module-urllib.parse')\n",
    "parsed_python_url\n",
    "#parsed_kk_url = urlparse(url)\n",
    "#parsed_kk_url"
   ]
  }
 ],
 "metadata": {
  "kernelspec": {
   "display_name": "Python 3",
   "language": "python",
   "name": "python3"
  },
  "language_info": {
   "codemirror_mode": {
    "name": "ipython",
    "version": 3
   },
   "file_extension": ".py",
   "mimetype": "text/x-python",
   "name": "python",
   "nbconvert_exporter": "python",
   "pygments_lexer": "ipython3",
   "version": "3.6.9"
  },
  "varInspector": {
   "cols": {
    "lenName": 16,
    "lenType": 16,
    "lenVar": 40
   },
   "kernels_config": {
    "python": {
     "delete_cmd_postfix": "",
     "delete_cmd_prefix": "del ",
     "library": "var_list.py",
     "varRefreshCmd": "print(var_dic_list())"
    },
    "r": {
     "delete_cmd_postfix": ") ",
     "delete_cmd_prefix": "rm(",
     "library": "var_list.r",
     "varRefreshCmd": "cat(var_dic_list()) "
    }
   },
   "types_to_exclude": [
    "module",
    "function",
    "builtin_function_or_method",
    "instance",
    "_Feature"
   ],
   "window_display": false
  }
 },
 "nbformat": 4,
 "nbformat_minor": 2
}
