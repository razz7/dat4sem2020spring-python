{
 "cells": [
  {
   "cell_type": "code",
   "execution_count": 8,
   "metadata": {},
   "outputs": [
    {
     "data": {
      "text/plain": [
       "<matplotlib.axes._subplots.AxesSubplot at 0x7fe37870e320>"
      ]
     },
     "execution_count": 8,
     "metadata": {},
     "output_type": "execute_result"
    },
    {
     "data": {
      "image/png": "[encoded data removed]",
      "text/plain": [
       "<Figure size 432x288 with 1 Axes>"
      ]
     },
     "metadata": {
      "needs_background": "light"
     },
     "output_type": "display_data"
    }
   ],
   "source": [
    "#5 With data aggregation and data visualization answer the following questions:\n",
    "from glob import glob\n",
    "import pandas as pd\n",
    "import matplotlib.pyplot as plt\n",
    "#A\n",
    "file = glob('FOLK1A-3.csv')\n",
    "ecsv = file[0]\n",
    "e = pd.read_csv(ecsv, sep = ';')\n",
    "e\n",
    "\n",
    "for element in range(1,len(e['INDHOLD'])):\n",
    "    e.loc[element,'INDHOLD'] = ((float(e['INDHOLD'][element]) / float(e['INDHOLD'][0])-1)*100)\n",
    "    \n",
    "e = e[:][1:]\n",
    "e\n",
    "e.plot(x=\"TID\", y=\"INDHOLD\")\n",
    "\n"
   ]
  },
  {
   "cell_type": "code",
   "execution_count": 6,
   "metadata": {},
   "outputs": [
    {
     "name": "stderr",
     "output_type": "stream",
     "text": [
      "/home/zzar/.local/lib/python3.6/site-packages/pandas/core/indexing.py:965: SettingWithCopyWarning: \n",
      "A value is trying to be set on a copy of a slice from a DataFrame.\n",
      "Try using .loc[row_indexer,col_indexer] = value instead\n",
      "\n",
      "See the caveats in the documentation: https://pandas.pydata.org/pandas-docs/stable/user_guide/indexing.html#returning-a-view-versus-a-copy\n",
      "  self.obj[item] = s\n"
     ]
    },
    {
     "data": {
      "text/html": [
       "<div>\n",
       "<style scoped>\n",
       "    .dataframe tbody tr th:only-of-type {\n",
       "        vertical-align: middle;\n",
       "    }\n",
       "\n",
       "    .dataframe tbody tr th {\n",
       "        vertical-align: top;\n",
       "    }\n",
       "\n",
       "    .dataframe thead th {\n",
       "        text-align: right;\n",
       "    }\n",
       "</style>\n",
       "<table border=\"1\" class=\"dataframe\">\n",
       "  <thead>\n",
       "    <tr style=\"text-align: right;\">\n",
       "      <th></th>\n",
       "      <th>CIVILSTAND</th>\n",
       "      <th>OMRÅDE</th>\n",
       "      <th>TID</th>\n",
       "      <th>INDHOLD</th>\n",
       "    </tr>\n",
       "  </thead>\n",
       "  <tbody>\n",
       "    <tr>\n",
       "      <th>104</th>\n",
       "      <td>I alt</td>\n",
       "      <td>Aalborg</td>\n",
       "      <td>2020K1</td>\n",
       "      <td>54.448463</td>\n",
       "    </tr>\n",
       "    <tr>\n",
       "      <th>58</th>\n",
       "      <td>I alt</td>\n",
       "      <td>Odense</td>\n",
       "      <td>2020K1</td>\n",
       "      <td>54.901291</td>\n",
       "    </tr>\n",
       "    <tr>\n",
       "      <th>3</th>\n",
       "      <td>I alt</td>\n",
       "      <td>Frederiksberg</td>\n",
       "      <td>2020K1</td>\n",
       "      <td>58.272374</td>\n",
       "    </tr>\n",
       "    <tr>\n",
       "      <th>84</th>\n",
       "      <td>I alt</td>\n",
       "      <td>Aarhus</td>\n",
       "      <td>2020K1</td>\n",
       "      <td>59.576894</td>\n",
       "    </tr>\n",
       "    <tr>\n",
       "      <th>2</th>\n",
       "      <td>I alt</td>\n",
       "      <td>København</td>\n",
       "      <td>2020K1</td>\n",
       "      <td>65.235791</td>\n",
       "    </tr>\n",
       "  </tbody>\n",
       "</table>\n",
       "</div>"
      ],
      "text/plain": [
       "    CIVILSTAND         OMRÅDE     TID    INDHOLD\n",
       "104      I alt        Aalborg  2020K1  54.448463\n",
       "58       I alt         Odense  2020K1  54.901291\n",
       "3        I alt  Frederiksberg  2020K1  58.272374\n",
       "84       I alt         Aarhus  2020K1  59.576894\n",
       "2        I alt      København  2020K1  65.235791"
      ]
     },
     "execution_count": 6,
     "metadata": {},
     "output_type": "execute_result"
    },
    {
     "data": {
      "image/png": "[encoded data removed]",
      "text/plain": [
       "<Figure size 432x288 with 1 Axes>"
      ]
     },
     "metadata": {
      "needs_background": "light"
     },
     "output_type": "display_data"
    }
   ],
   "source": [
    "#B Which of the 5 biggest cities has the highest percentage of 'Never Married'?\n",
    "\n",
    "files = glob('FOLK1A-4.csv')\n",
    "ccsv = files[0]\n",
    "civil = pd.read_csv(ccsv, sep = ';')\n",
    "civil\n",
    "\n",
    "alle_civil = civil[civil['CIVILSTAND'] == 'I alt']\n",
    "alle_civil\n",
    "\n",
    "ugift_civil = civil[civil['CIVILSTAND'] == 'Ugift']\n",
    "ugift_civil\n",
    "\n",
    "civil_list = alle_civil\n",
    "\n",
    "for element in range(len(civil_list['INDHOLD'])):\n",
    "    civil_list.loc[element,'INDHOLD'] = (float(ugift_civil['INDHOLD'][element+len(alle_civil)]) / (float(alle_civil['INDHOLD'][element]))*100)\n",
    "    \n",
    "civil_list = civil_list[-civil_list['OMRÅDE'].apply(lambda x: (x == 'Hele landet'))]\n",
    "civil_list = civil_list[-civil_list['OMRÅDE'].apply(lambda x: (x[0:6] == 'Region'))]\n",
    "civil_list = civil_list.sort_values(by='INDHOLD')   \n",
    "civil_list = civil_list[-6:][1:]\n",
    "civil_list\n",
    "civil_list.plot(x=\"OMRÅDE\", y=\"INDHOLD\")\n",
    "\n",
    "civil_list"
   ]
  },
  {
   "cell_type": "code",
   "execution_count": 12,
   "metadata": {},
   "outputs": [
    {
     "data": {
      "text/html": [
       "<div>\n",
       "<style scoped>\n",
       "    .dataframe tbody tr th:only-of-type {\n",
       "        vertical-align: middle;\n",
       "    }\n",
       "\n",
       "    .dataframe tbody tr th {\n",
       "        vertical-align: top;\n",
       "    }\n",
       "\n",
       "    .dataframe thead th {\n",
       "        text-align: right;\n",
       "    }\n",
       "</style>\n",
       "<table border=\"1\" class=\"dataframe\">\n",
       "  <thead>\n",
       "    <tr style=\"text-align: right;\">\n",
       "      <th></th>\n",
       "      <th>OMRÅDE</th>\n",
       "      <th>TID</th>\n",
       "      <th>CIVILSTAND</th>\n",
       "      <th>INDHOLD</th>\n",
       "    </tr>\n",
       "  </thead>\n",
       "  <tbody>\n",
       "    <tr>\n",
       "      <th>0</th>\n",
       "      <td>København</td>\n",
       "      <td>2008K1</td>\n",
       "      <td>I alt</td>\n",
       "      <td>509861</td>\n",
       "    </tr>\n",
       "    <tr>\n",
       "      <th>1</th>\n",
       "      <td>København</td>\n",
       "      <td>2008K1</td>\n",
       "      <td>Ugift</td>\n",
       "      <td>309661</td>\n",
       "    </tr>\n",
       "    <tr>\n",
       "      <th>2</th>\n",
       "      <td>København</td>\n",
       "      <td>2008K1</td>\n",
       "      <td>Gift/separeret</td>\n",
       "      <td>128556</td>\n",
       "    </tr>\n",
       "    <tr>\n",
       "      <th>3</th>\n",
       "      <td>København</td>\n",
       "      <td>2008K1</td>\n",
       "      <td>Enke/enkemand</td>\n",
       "      <td>21555</td>\n",
       "    </tr>\n",
       "    <tr>\n",
       "      <th>4</th>\n",
       "      <td>København</td>\n",
       "      <td>2008K1</td>\n",
       "      <td>Fraskilt</td>\n",
       "      <td>50089</td>\n",
       "    </tr>\n",
       "    <tr>\n",
       "      <th>...</th>\n",
       "      <td>...</td>\n",
       "      <td>...</td>\n",
       "      <td>...</td>\n",
       "      <td>...</td>\n",
       "    </tr>\n",
       "    <tr>\n",
       "      <th>240</th>\n",
       "      <td>København</td>\n",
       "      <td>2020K1</td>\n",
       "      <td>I alt</td>\n",
       "      <td>632340</td>\n",
       "    </tr>\n",
       "    <tr>\n",
       "      <th>241</th>\n",
       "      <td>København</td>\n",
       "      <td>2020K1</td>\n",
       "      <td>Ugift</td>\n",
       "      <td>412512</td>\n",
       "    </tr>\n",
       "    <tr>\n",
       "      <th>242</th>\n",
       "      <td>København</td>\n",
       "      <td>2020K1</td>\n",
       "      <td>Gift/separeret</td>\n",
       "      <td>150458</td>\n",
       "    </tr>\n",
       "    <tr>\n",
       "      <th>243</th>\n",
       "      <td>København</td>\n",
       "      <td>2020K1</td>\n",
       "      <td>Enke/enkemand</td>\n",
       "      <td>14630</td>\n",
       "    </tr>\n",
       "    <tr>\n",
       "      <th>244</th>\n",
       "      <td>København</td>\n",
       "      <td>2020K1</td>\n",
       "      <td>Fraskilt</td>\n",
       "      <td>54740</td>\n",
       "    </tr>\n",
       "  </tbody>\n",
       "</table>\n",
       "<p>245 rows × 4 columns</p>\n",
       "</div>"
      ],
      "text/plain": [
       "        OMRÅDE     TID      CIVILSTAND  INDHOLD\n",
       "0    København  2008K1           I alt   509861\n",
       "1    København  2008K1           Ugift   309661\n",
       "2    København  2008K1  Gift/separeret   128556\n",
       "3    København  2008K1   Enke/enkemand    21555\n",
       "4    København  2008K1        Fraskilt    50089\n",
       "..         ...     ...             ...      ...\n",
       "240  København  2020K1           I alt   632340\n",
       "241  København  2020K1           Ugift   412512\n",
       "242  København  2020K1  Gift/separeret   150458\n",
       "243  København  2020K1   Enke/enkemand    14630\n",
       "244  København  2020K1        Fraskilt    54740\n",
       "\n",
       "[245 rows x 4 columns]"
      ]
     },
     "execution_count": 12,
     "metadata": {},
     "output_type": "execute_result"
    },
    {
     "data": {
      "image/png": "[encoded data removed]",
      "text/plain": [
       "<Figure size 432x288 with 1 Axes>"
      ]
     },
     "metadata": {
      "needs_background": "light"
     },
     "output_type": "display_data"
    }
   ],
   "source": [
    "#C Show a bar chart of changes in marrital status in Copenhagen from 2008 till now\n",
    "\n",
    "files = glob('FOLK1A-5.csv')\n",
    "civil_csv = files[0]\n",
    "civils = pd.read_csv(civil_csv, sep = ';')\n",
    "civils\n",
    "\n",
    "gift_civil = civils[civils['CIVILSTAND'] == 'Gift/separeret']\n",
    "ugift_civil = civils[civils['CIVILSTAND'] == 'Ugift']\n",
    "enke_civil = civils[civils['CIVILSTAND'] == 'Enke/enkemand']\n",
    "fraskilt_civil = civils[civils['CIVILSTAND'] == 'Fraskilt']\n",
    "\n",
    "p1 = plt.bar(ugift_civil['TID'], ugift_civil['INDHOLD'], width=0.5, align='center' , color='purple')\n",
    "p2 = plt.bar(gift_civil['TID'], gift_civil['INDHOLD'], width=0.5, align='center' , color='red')\n",
    "p3 = plt.bar(fraskilt_civil['TID'], fraskilt_civil['INDHOLD'], width=0.5, align='center' , color='green')\n",
    "p4 = plt.bar(enke_civil['TID'], enke_civil['INDHOLD'], width=0.5, align='center' , color='orange')\n",
    "plt.legend([p1,p2,p3,p4],['Ugift','Gift/separeret','Fraskilt','Enke/enkemand'],loc=1)\n",
    "\n",
    "civilstand"
   ]
  },
  {
   "cell_type": "code",
   "execution_count": null,
   "metadata": {},
   "outputs": [],
   "source": []
  }
 ],
 "metadata": {
  "kernelspec": {
   "display_name": "Python 3",
   "language": "python",
   "name": "python3"
  },
  "language_info": {
   "codemirror_mode": {
    "name": "ipython",
    "version": 3
   },
   "file_extension": ".py",
   "mimetype": "text/x-python",
   "name": "python",
   "nbconvert_exporter": "python",
   "pygments_lexer": "ipython3",
   "version": "3.6.9"
  }
 },
 "nbformat": 4,
 "nbformat_minor": 4
}
