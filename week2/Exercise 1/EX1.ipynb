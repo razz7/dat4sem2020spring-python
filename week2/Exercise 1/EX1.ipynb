{
 "cells": [
  {
   "cell_type": "markdown",
   "metadata": {},
   "source": [
    "## Exercise 1\n",
    "1. Create a python file with 3 functions:\n",
    "  1. `def print_file_content(file)` that can print content of a csv file to the console\n",
    "  2. `def write_list_to_file(output_file, lst)` that can take a list of tuple and write each element to a new line in file\n",
    "    1. rewrite the function so that it gets an arbitrary number of strings instead of a list\n",
    "  3. `def read_csv(input_file)` that take a csv file and read each row into a list\n",
    "2. Add a functionality so that the file can be called from cli with 2 arguments\n",
    "  1. path to csv file\n",
    "  2. an argument `--file file_name` that if given will write the content to file_name or otherwise will print it to the console.\n",
    "3. Add a --help cli argument to describe how the module is used  \n"
   ]
  },
  {
   "cell_type": "code",
   "execution_count": 1,
   "metadata": {},
   "outputs": [],
   "source": [
    "def test():\n",
    "    t = 'ho'\n"
   ]
  },
  {
   "cell_type": "code",
   "execution_count": 9,
   "metadata": {},
   "outputs": [
    {
     "name": "stdout",
     "output_type": "stream",
     "text": [
      "Test_Fra_file_filetest\n",
      "Test_Fra_file_filetest\n",
      "Test_Fra_file_filetest\n",
      "Test_Fra_file_filetest\n",
      "Test_Fra_file_filetest\n",
      "test\n",
      "\n",
      "\n"
     ]
    }
   ],
   "source": [
    "#1.A\n",
    "testfile1 = 'filetest.csv'\n",
    "\n",
    "\n",
    "def print_file_content(file):\n",
    "    with open(file) as file_object:\n",
    "        contents = file_object.read()\n",
    "    print(contents)\n",
    "\n",
    "print_file_content(testfile1)\n",
    "\n",
    "\n"
   ]
  },
  {
   "cell_type": "code",
   "execution_count": 14,
   "metadata": {},
   "outputs": [],
   "source": [
    "#1.B\n",
    "\n",
    "testfile2 = 'filewriteTo.csv';\n",
    "touples = {('test-1'),('test123'),('test3ellertest4')}\n",
    "\n",
    "def write_list_to_file(output_file, touples):\n",
    "    with open(output_file, 'w') as file_object:\n",
    "        for x in touples:\n",
    "            file_object.write(x + '\\n')\n",
    "            \n",
    "write_list_to_file(testfile2, touples)"
   ]
  },
  {
   "cell_type": "code",
   "execution_count": 15,
   "metadata": {},
   "outputs": [],
   "source": [
    "#1.B.A\n",
    "string = \"Av for Katten!\"\n",
    "testfile3 = 'filewriteTo1.csv'\n",
    "def write_list_to_file(output_file, string):\n",
    "     with open(output_file, 'w') as file_object:\n",
    "            for x in string:\n",
    "                file_object.write(x + '\\n')\n",
    "\n",
    "write_list_to_file(testfile3, string)"
   ]
  },
  {
   "cell_type": "code",
   "execution_count": 16,
   "metadata": {},
   "outputs": [],
   "source": [
    "#C\n",
    "myList = list()\n",
    "testfile4 = 'filetest.csv'\n",
    "def read_csv(input_file):\n",
    "    f = open(input_file, 'r')\n",
    "    for x in f:\n",
    "        myList.append(x)\n",
    "        \n",
    "\n",
    "read_csv(testfile4)"
   ]
  }
 ],
 "metadata": {
  "kernelspec": {
   "display_name": "Python 3",
   "language": "python",
   "name": "python3"
  },
  "language_info": {
   "codemirror_mode": {
    "name": "ipython",
    "version": 3
   },
   "file_extension": ".py",
   "mimetype": "text/x-python",
   "name": "python",
   "nbconvert_exporter": "python",
   "pygments_lexer": "ipython3",
   "version": "3.6.9"
  },
  "varInspector": {
   "cols": {
    "lenName": 16,
    "lenType": 16,
    "lenVar": 40
   },
   "kernels_config": {
    "python": {
     "delete_cmd_postfix": "",
     "delete_cmd_prefix": "del ",
     "library": "var_list.py",
     "varRefreshCmd": "print(var_dic_list())"
    },
    "r": {
     "delete_cmd_postfix": ") ",
     "delete_cmd_prefix": "rm(",
     "library": "var_list.r",
     "varRefreshCmd": "cat(var_dic_list()) "
    }
   },
   "types_to_exclude": [
    "module",
    "function",
    "builtin_function_or_method",
    "instance",
    "_Feature"
   ],
   "window_display": false
  }
 },
 "nbformat": 4,
 "nbformat_minor": 2
}
