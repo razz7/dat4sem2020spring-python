{
 "cells": [
  {
   "cell_type": "markdown",
   "metadata": {
    "slideshow": {
     "slide_type": "slide"
    }
   },
   "source": [
    "# Python course\n",
    "Using anaconda installation with packages like:\n",
    "\n",
    "![](https://www.anaconda.com/wp-content/uploads/2018/11/distro-01-1.png)  \n",
    "\n",
    "### The 5 general tasks we will focus on in this course are:\n",
    "1. Interacting with the outside world\n",
    "  - Reading and writing with a variety of file formats and data stores\n",
    "2. Preparation\n",
    "  - Cleaning, munging, combining, normalizing, reshaping, slicing and dicing, and transforming data for analysis\n",
    "- Transformation\n",
    "  - Applying mathematical and statistical operations to groups of datasets to derive new datasets (e.g., aggregating a large table by group variables)\n",
    "- Modeling and computation\n",
    "  - Connecting your data to statistical models, machine learning algorithms, or other computational tools\n",
    "- Presentation\n",
    "  - Creating interactive or static graphical visualizations or textual summaries\n",
    "\n",
    "### Basics\n",
    "\n",
    "- We will learn about Python’s basic data types, \n",
    "- basic data structures, \n",
    "- control structures, expressions, statements, operators, and program operation. \n",
    "- Jupyter Notebooks, as interactive programming environment and its application for knowledge presentation.\n",
    "- Classes, objects, exceptions etc.\n",
    "\n",
    "### Data Collection\n",
    "\n",
    "We will learn \n",
    "- how to automatically download files from the web, \n",
    "- scrape text and images from web pages, and \n",
    "- how to read and write various file formats, such as text files, CSV files, JSON files, Excel files, etc.\n",
    "\n",
    "### Data Visualization\n",
    "\n",
    "We will learn how to \n",
    "- plot data into various plot styles, such as, \n",
    "  - line plots, \n",
    "  - scatter plots, \n",
    "  - bar plots, \n",
    "  - on maps, etc. using different technologies, such as \n",
    "    - “matplotlib”, \n",
    "    - “pygal”, and \n",
    "    - “bokeh”.\n",
    "\n",
    "### Data Science\n",
    "\n",
    "We will apply some common algorithms in data science, such as \n",
    "- KMeans, \n",
    "- Mean Shift, \n",
    "- Page Rank, etc. \n",
    "Additionally, we will learn how to make use of the most prominent science libraries:\n",
    "- NumPy and \n",
    "- Pandas for effective and efficient data processing.\n",
    "\n",
    "### Image Processing\n",
    "\n",
    "We will have a look at basic image processing tasks, such as, \n",
    "- reading image files, \n",
    "- morphological operations, \n",
    "- colour spaces, and \n",
    "- the application of “OpenCV” to process images and streams of images automatically.\n",
    "\n",
    "### Automation\n",
    "\n",
    "On top of automatic web scraping, we will have a look at UI automation and the “Selenium“ framework to let computers perform the boring and repetitive tasks.\n",
    "\n",
    "### Web service\n",
    "\n",
    "Using Flask we will create restful webservice and expose some of the content we have produced earlier.\n",
    "\n",
    "\n",
    "## Getting started with python\n",
    "\n",
    "- Install Anaconda from https://www.anaconda.com/distribution/\n",
    "- Open ananconda prompt on windows (open terminal on mac or linux)\n",
    "- Activate a virtual [environment](https://docs.conda.io/projects/conda/en/latest/user-guide/tasks/manage-environments.html)\n",
    "- Confirm (from bash) by opening `jupyter notebook`\n",
    "\n",
    "### Additional ressourcers:\n",
    "- [Using conda for virtual environments](https://towardsdatascience.com/getting-started-with-python-environments-using-conda-32e9f2779307)\n",
    "- [Notebook shortcuts](https://towardsdatascience.com/jypyter-notebook-shortcuts-bf0101a98330)\n",
    "\n"
   ]
  },
  {
   "cell_type": "code",
   "execution_count": 1,
   "metadata": {},
   "outputs": [
    {
     "name": "stdout",
     "output_type": "stream",
     "text": [
      "hello\n"
     ]
    }
   ],
   "source": [
    "print(\"hello\")"
   ]
  },
  {
   "cell_type": "markdown",
   "metadata": {
    "slideshow": {
     "slide_type": "slide"
    }
   },
   "source": [
    "# Some useful commands\n",
    "From the root of you project folder\n",
    "- `conda create -n <env name>` create a new virtual environment\n",
    "- `conda activate <env name>` activate the virtual environment where you have your dependencies.\n",
    "- `conda list` see all installed modules on the current virtual env\n",
    "- `conda info --envs` to see what virtual environments you have\n",
    "- `conda deactivate` stop using the environment\n",
    "- `conda remove --name <env name> --all` delete the environment permanently\n",
    "- `jupyter notebook` starting the notebook server and opening root in browser"
   ]
  },
  {
   "cell_type": "markdown",
   "metadata": {},
   "source": [
    "## Add extensions to notebooks\n",
    "Some extra functionality like better intellisense, variable inspection etc. can be achieved with third-party extensions from nb-extensions library.\n",
    "`conda install -c conda-forge jupyter_contrib_nbextensions jupyter_nbextensions_configurator` to install\n",
    "`jupyter notebook` to start a new notebook server\n",
    "Now in the browser find the new tab: Nbextensions and add the `Hinterland` extension"
   ]
  },
  {
   "cell_type": "markdown",
   "metadata": {},
   "source": [
    "## Install linter\n",
    "`conda install -c conda-forge autopep8` to install the autopep8 linter \n",
    "Now you can add the nbextension by the same name"
   ]
  },
  {
   "cell_type": "code",
   "execution_count": 2,
   "metadata": {
    "slideshow": {
     "slide_type": "slide"
    }
   },
   "outputs": [
    {
     "name": "stdout",
     "output_type": "stream",
     "text": [
      "hello world from jupyter notebook\n"
     ]
    }
   ],
   "source": [
    "# print to output\n",
    "print(\"hello world from jupyter notebook\")"
   ]
  },
  {
   "cell_type": "code",
   "execution_count": 4,
   "metadata": {},
   "outputs": [],
   "source": [
    "lst = list(['hode',33,])\n",
    "def Hoho():\n",
    "    print('year')"
   ]
  },
  {
   "cell_type": "markdown",
   "metadata": {},
   "source": [
    "### Create groups of 3-4 members\n",
    "Groups will be working together for the duration of the elective and for the final exam"
   ]
  },
  {
   "cell_type": "code",
   "execution_count": 10,
   "metadata": {},
   "outputs": [
    {
     "name": "stdout",
     "output_type": "stream",
     "text": [
      "combative psychology\n"
     ]
    }
   ],
   "source": [
    "# create random group names\n",
    "import random\n",
    "print(adjectives[random.randint(0,len(adjectives))]+\" \"+nouns[random.randint(0,len(nouns))])"
   ]
  },
  {
   "cell_type": "markdown",
   "metadata": {},
   "source": [
    "### Intro to Course Setup\n",
    "\n",
    "#### The Exercises\n",
    "\n",
    "The first 6 course days you will get assignments created by the teacher. \n",
    "\n",
    "The last 7 course days you will create assignments for your classmates by:\n",
    "- Finding a public data set. Either in a machine readable format, or a source that you can scrape automatically.\n",
    "- Formulate a question that you would like to answer from the dataset.\n",
    "- Present your dataset and your question to the other groups.\n",
    "- All groups implement a solution for each given dataset and each given problem.\n",
    "- Each group presents their solution to the problems asked by other groups. The group posing a task elects which solution solves their problem best.\n",
    "\n",
    "For inspiration check the following openly available datasets:\n",
    "- Public Data from Copenhagen Municipality: http://data.kk.dk\n",
    "- A collection of various public datasets: https://github.com/caesar0301/awesome-public-datasets\n",
    "- Another and more extensive collection of various public datasets: https://www.kaggle.com/datasets\n",
    "- Project Gutenberg, a collection of public domain books, amongst others in plain text files: http://www.gutenberg.org\n",
    "- A dataset on Amazon product ratings: http://jmcauley.ucsd.edu/data/amazon/\n",
    "- Forum entries collecting some datasets: https://www.quora.com/Data/Where-can-I-find-large-datasets-open-to-the-public\n",
    "- Another forum entry collecting some datasets: https://hn.algolia.com/?query=open%20data&sort=byPopularity&prefix&page=0&dateRange=all&type=story\n",
    "\n",
    "#### Handin\n",
    "For each handin you must push a solution the exercise on github and send a link to the solution to this email address: pythonvalg@gmail.com by monday 8.00 am at the latest.\n",
    "\n",
    "Each week the exercise solution must be pushed to the same repo in a new folder placed in the root of the repo\n",
    "\n",
    "You must then prepare a presentation of the solution to the class.\n",
    "There will be one hand-in and presentation per week per group\n",
    "\n",
    "All hand-ins are per group via Github! Which groups are chosen to present the solution in class will be determined randomly.\n",
    "\n",
    "\n",
    "### The exam project\n",
    "\n",
    "The main project will be executed in exactly the same manner as the exercises above. However, the main project phases is at least three weeks, so rather than a single jupyter notebook you must create a full python program, that can be executed from the command line. You should try to use most of the topics from the course in your final product, but the workflow is the same:\n",
    "- Find data source (text, website, api or collection of images etc)\n",
    "- Formulate a problem.\n",
    "- Implement a solution and evaluation.\n",
    "- Prepare a presentation (used in exam).\n",
    "\n",
    "#### The Exam\n",
    "\n",
    "Group presentation of 10 minutes followed by 10 minutes of questions per student (minimum 30 minutes).\n",
    "The exam is based on a presentation of the student’s group project and it is facilitated by an interactive programming environment. Additionally, this includes a discussion of the project’s solutions with respect to the main topics of the course.\n",
    "For the main topics questions will be known to the students in advance.\n",
    "\n",
    "#### Course Material\n",
    "\n",
    "You will find all the notebooks (the presentation you are looking at) and other code examples with corresponding data under the following GitHub repository:\n",
    "\n",
    "https://github.com/datsoftlyngby/dat4sem2020spring-python"
   ]
  },
  {
   "cell_type": "markdown",
   "metadata": {},
   "source": [
    "# Literature\n",
    "You should not really need any other literature besides all the information given in the notebooks and web links in the `lecture_notes` directory. However, this course is heavily based on the following books:\n",
    "* **Python Crash Course** A Hands-On, Project-Based Introduction to Programming by Eric Matthes (https://www.nostarch.com/pythoncrashcourse)\n",
    "![](https://www.safaribooksonline.com/library/cover/9781457197185/360h/)\n",
    "* **Automate the Boring Stuff with Python** Practical Programming for Total Beginners by Al Sweigart (https://www.nostarch.com/automatestuff)\n",
    "![](https://automatetheboringstuff.com/images/automate_cover_medium.png)\n",
    "* _A Whirlwind Tour of Python_ (http://www.oreilly.com/programming/free/a-whirlwind-tour-of-python.csp)\n",
    "![](http://covers.oreillystatic.com/images/0636920053194/cat.gif) You can read it online https://jakevdp.github.io/WhirlwindTourOfPython/\n",
    "Additionally, some information is sourced from:\n",
    "* **Data Science from Scratch** First Principles with Python by Joel Grus (http://shop.oreilly.com/product/0636920033400.do)\n",
    "![](https://covers.oreillystatic.com/images/0636920033400/cat.gif)\n",
    "* **Fluent Python** Clear, Concise, and Effective Programming by Luciano Ramalho (http://shop.oreilly.com/product/0636920032519.do)\n",
    "![](https://covers.oreillystatic.com/images/0636920032519/cat.gif)\n",
    "\n",
    "Whenever other sources are used, they will be highlighted."
   ]
  },
  {
   "cell_type": "code",
   "execution_count": 3,
   "metadata": {},
   "outputs": [],
   "source": [
    "nouns = ['people', 'history', 'way', 'art', 'world', 'information', 'map', \n",
    "         'two', 'family', 'government', 'health', 'system', 'computer', \n",
    "         'meat', 'year', 'thanks', 'music', 'person', 'reading', 'method', \n",
    "         'data', 'food', 'understanding', 'theory', 'law', 'bird', \n",
    "         'literature', 'problem', 'software', 'control', 'knowledge', 'power', \n",
    "         'ability', 'economics', 'love', 'internet',  'television', 'science', \n",
    "         'library', 'nature', 'fact', 'product', 'idea',  'temperature', \n",
    "         'investment', 'area', 'society', 'activity', 'story',  'industry', \n",
    "         'media', 'thing', 'oven', 'community', 'definition', 'safety',  \n",
    "         'quality', 'development', 'language', 'management', 'player', \n",
    "         'variety',  'video', 'week', 'security', 'country', 'exam', 'movie', \n",
    "         'organization',  'equipment', 'physics', 'analysis', 'policy', \n",
    "         'series', 'thought', 'basis', 'boyfriend', 'direction', 'strategy', \n",
    "         'technology', 'army', 'camera', 'freedom', 'paper', 'environment', \n",
    "         'child', 'instance', 'month', 'truth',  'marketing', 'university', \n",
    "         'writing', 'article', 'department', 'difference',  'goal', 'news', \n",
    "         'audience', 'fishing', 'growth', 'income', 'marriage', 'user',  \n",
    "         'combination', 'failure', 'meaning', 'medicine', 'philosophy', \n",
    "         'teacher',  'communication', 'night', 'chemistry', 'disease', 'disk', \n",
    "         'energy', 'nation',  'road', 'role', 'soup', 'advertising', \n",
    "         'location', 'success', 'addition',  'apartment', 'education', 'math', \n",
    "         'moment', 'painting', 'politics',  'attention', 'decision', 'event', \n",
    "         'property', 'shopping', 'student', 'wood',  'competition', \n",
    "         'distribution', 'entertainment', 'office', 'population',  \n",
    "         'president', 'unit', 'category', 'cigarette', 'context', \n",
    "         'introduction',  'opportunity', 'performance', 'driver', 'flight', \n",
    "         'length', 'magazine',  'newspaper', 'relationship', 'teaching', \n",
    "         'cell', 'dealer', 'finding', 'lake',  'member', 'message', 'phone', \n",
    "         'scene', 'appearance', 'association', 'concept',  'customer', \n",
    "         'death', 'discussion', 'housing', 'inflation', 'insurance',  'mood', \n",
    "         'woman', 'advice', 'blood', 'effort', 'expression', 'importance',  \n",
    "         'opinion', 'payment', 'reality', 'responsibility', 'situation', \n",
    "         'skill',  'statement', 'wealth', 'application', 'city', 'county', \n",
    "         'depth', 'estate',  'foundation', 'grandmother', 'heart', \n",
    "         'perspective', 'photo', 'recipe',  'studio', 'topic', 'collection', \n",
    "         'depression', 'imagination', 'passion',  'percentage', 'resource', \n",
    "         'setting', 'ad', 'agency', 'college', 'connection',  'criticism', \n",
    "         'debt', 'description', 'memory', 'patience', 'secretary',  \n",
    "         'solution', 'administration', 'aspect', 'attitude', 'director', \n",
    "         'personality',  'psychology', 'recommendation', 'response', \n",
    "         'selection', 'storage', 'version',  'alcohol', 'argument', \n",
    "         'complaint', 'contract', 'emphasis', 'highway', 'loss',  \n",
    "         'membership', 'possession', 'preparation', 'steak', 'union', \n",
    "         'agreement',  'cancer', 'currency', 'employment', 'engineering', \n",
    "         'entry', 'interaction',  'mixture', 'preference', 'region', \n",
    "         'republic', 'tradition', 'virus', 'actor',  'classroom', 'delivery', \n",
    "         'device', 'difficulty', 'drama', 'election',  'engine', 'football', \n",
    "         'guidance', 'hotel', 'owner', 'priority', 'protection',  \n",
    "         'suggestion', 'tension', 'variation', 'anxiety', 'atmosphere', \n",
    "         'awareness',  'bath', 'bread', 'candidate', 'climate', 'comparison', \n",
    "         'confusion',  'construction', 'elevator', 'emotion', 'employee', \n",
    "         'employer', 'guest',  'height', 'leadership', 'mall', 'manager', \n",
    "         'operation', 'recording', 'sample',  'transportation', 'charity', \n",
    "         'cousin', 'disaster', 'editor', 'efficiency',  'excitement', \n",
    "         'extent', 'feedback', 'guitar', 'homework', 'leader', 'mom',  \n",
    "         'outcome', 'permission', 'presentation', 'promotion', 'reflection',  \n",
    "         'refrigerator', 'resolution', 'revenue', 'session', 'singer', \n",
    "         'tennis',  'basket', 'bonus', 'cabinet', 'childhood', 'church', \n",
    "         'clothes', 'coffee',  'dinner', 'drawing', 'hair', 'hearing', \n",
    "         'initiative', 'judgment', 'lab',  'measurement', 'mode', 'mud', \n",
    "         'orange', 'poetry', 'police', 'possibility',  'procedure', 'queen', \n",
    "         'ratio', 'relation', 'restaurant', 'satisfaction',  'sector', \n",
    "         'signature', 'significance', 'song', 'tooth', 'town', 'vehicle',  \n",
    "         'volume', 'wife', 'accident', 'airport', 'appointment', 'arrival',  \n",
    "         'assumption', 'baseball', 'chapter', 'committee', 'conversation', \n",
    "         'database',  'enthusiasm', 'error', 'explanation', 'farmer', 'gate', \n",
    "         'girl', 'hall',  'historian', 'hospital', 'injury', 'instruction', \n",
    "         'maintenance',  'manufacturer', 'meal', 'perception', 'pie', 'poem', \n",
    "         'presence', 'proposal',  'reception', 'replacement', 'revolution', \n",
    "         'river', 'son', 'speech', 'tea',  'village', 'warning', 'winner', \n",
    "         'worker', 'writer', 'assistance', 'breath',  'buyer', 'chest', \n",
    "         'chocolate', 'conclusion', 'contribution', 'cookie',  'courage', \n",
    "         'dad', 'desk', 'drawer', 'establishment', 'examination', 'garbage',  \n",
    "         'grocery', 'honey', 'impression', 'improvement', 'independence', \n",
    "         'insect',  'inspection', 'inspector', 'king', 'ladder', 'menu', \n",
    "         'penalty', 'piano',  'potato', 'profession', 'professor', 'quantity', \n",
    "         'reaction', 'requirement',  'salad', 'sister', 'supermarket', \n",
    "         'tongue', 'weakness', 'wedding', 'affair',  'ambition', 'analyst', \n",
    "         'apple', 'assignment', 'assistant', 'bathroom',  'bedroom', 'beer', \n",
    "         'birthday', 'celebration', 'championship', 'cheek',  'client', \n",
    "         'consequence', 'departure', 'diamond', 'dirt', 'ear', 'fortune',  \n",
    "         'friendship', 'funeral', 'gene', 'girlfriend', 'hat', 'indication',  \n",
    "         'intention', 'lady', 'midnight', 'negotiation', 'obligation', \n",
    "         'passenger',  'pizza', 'platform', 'poet', 'pollution', \n",
    "         'recognition', 'reputation',  'shirt', 'sir', 'speaker', 'stranger', \n",
    "         'surgery', 'sympathy', 'tale',  'throat', 'trainer', 'uncle', 'youth']\n",
    "\n",
    "adjectives = ['adorable', 'adventurous', 'aggressive', 'agreeable', 'alert', \n",
    "              'alive', 'amused', 'angry', 'annoyed', 'annoying', 'anxious', \n",
    "              'arrogant', 'ashamed', 'attractive', 'average', 'awful', 'bad', \n",
    "              'beautiful', 'better', 'bewildered', 'black', 'bloody', 'blue', \n",
    "              'blue-eyed', 'blushing', 'bored', 'brainy', 'brave', \n",
    "              'breakable', 'bright', 'busy', 'calm', 'careful', 'cautious', \n",
    "              'charming', 'cheerful', 'clean', 'clear', 'clever', 'cloudy', \n",
    "              'clumsy', 'colorful', 'combative', 'comfortable', 'concerned', \n",
    "              'condemned', 'confused', 'cooperative', 'courageous', 'crazy', \n",
    "              'creepy', 'crowded', 'cruel', 'curious', 'cute', 'dangerous', \n",
    "              'dark', 'dead', 'defeated', 'defiant', 'delightful', \n",
    "              'depressed', 'determined', 'different', 'difficult', \n",
    "              'disgusted', 'distinct', 'disturbed', 'dizzy', 'doubtful', \n",
    "              'drab', 'dull', 'eager', 'easy', 'elated', 'elegant', \n",
    "              'embarrassed', 'enchanting', 'encouraging', 'energetic', \n",
    "              'enthusiastic', 'envious', 'evil', 'excited', 'expensive', \n",
    "              'exuberant', 'fair', 'faithful', 'famous', 'fancy', 'fantastic', \n",
    "              'fierce', 'filthy', 'fine', 'foolish', 'fragile', 'frail', \n",
    "              'frantic', 'friendly', 'frightened', 'funny', 'gentle', \n",
    "              'gifted', 'glamorous', 'gleaming', 'glorious', 'good', \n",
    "              'gorgeous', 'graceful', 'grieving', 'grotesque', 'grumpy', \n",
    "              'handsome', 'happy', 'healthy', 'helpful', 'helpless', \n",
    "              'hilarious', 'homeless', 'homely', 'horrible', 'hungry', 'hurt', \n",
    "              'ill', 'important', 'impossible', 'inexpensive', 'innocent', \n",
    "              'inquisitive', 'itchy', 'jealous', 'jittery', 'jolly', 'joyous', \n",
    "              'kind', 'lazy', 'light', 'lively', 'lonely', 'long', 'lovely', \n",
    "              'lucky', 'magnificent', 'misty', 'modern', 'motionless', \n",
    "              'muddy', 'mushy', 'mysterious', 'nasty', 'naughty', 'nervous', \n",
    "              'nice', 'nutty', 'obedient', 'obnoxious', 'odd', \n",
    "              'old-fashioned', 'open', 'outrageous', 'outstanding', 'panicky', \n",
    "              'perfect', 'plain', 'pleasant', 'poised', 'poor', 'powerful', \n",
    "              'precious', 'prickly', 'proud', 'puzzled', 'quaint', 'real', \n",
    "              'relieved', 'repulsive', 'rich', 'scary', 'selfish', 'shiny', \n",
    "              'shy', 'silly', 'sleepy', 'smiling', 'smoggy', 'sore', \n",
    "              'sparkling', 'splendid', 'spotless', 'stormy', 'strange', \n",
    "              'stupid', 'successful', 'super', 'talented', 'tame', 'tender', \n",
    "              'tense', 'terrible', 'testy', 'thankful', 'thoughtful', \n",
    "              'thoughtless', 'tired', 'tough', 'troubled', 'ugliest', 'ugly', \n",
    "              'uninterested', 'unsightly', 'unusual', 'upset', 'uptight', \n",
    "              'vast', 'victorious', 'vivacious', 'wandering', 'weary', \n",
    "              'wicked', 'wide-eyed', 'wild', 'witty', 'worrisome', 'worried', \n",
    "              'wrong', 'zany', 'zealous']"
   ]
  }
 ],
 "metadata": {
  "celltoolbar": "Slideshow",
  "kernelspec": {
   "display_name": "Python 3",
   "language": "python",
   "name": "python3"
  },
  "language_info": {
   "codemirror_mode": {
    "name": "ipython",
    "version": 3
   },
   "file_extension": ".py",
   "mimetype": "text/x-python",
   "name": "python",
   "nbconvert_exporter": "python",
   "pygments_lexer": "ipython3",
   "version": "3.6.9"
  },
  "varInspector": {
   "cols": {
    "lenName": 16,
    "lenType": 16,
    "lenVar": 40
   },
   "kernels_config": {
    "python": {
     "delete_cmd_postfix": "",
     "delete_cmd_prefix": "del ",
     "library": "var_list.py",
     "varRefreshCmd": "print(var_dic_list())"
    },
    "r": {
     "delete_cmd_postfix": ") ",
     "delete_cmd_prefix": "rm(",
     "library": "var_list.r",
     "varRefreshCmd": "cat(var_dic_list()) "
    }
   },
   "types_to_exclude": [
    "module",
    "function",
    "builtin_function_or_method",
    "instance",
    "_Feature"
   ],
   "window_display": false
  }
 },
 "nbformat": 4,
 "nbformat_minor": 2
}
