{
 "cells": [
  {
   "cell_type": "markdown",
   "metadata": {},
   "source": [
    "Exercise 2\n",
    "\n",
    "Create a module called utils.py and put the following functions inside:\n",
    "\n",
    "    first function takes a path to a folder and writes all filenames in the folder to a specified output file\n",
    "    second takes a path to a folder and write all filenames recursively (files of all sub folders to)\n",
    "    third takes a list of filenames and print the first line of each\n",
    "    fourth takes a list of filenames and print each line that contains an email (just look for @)\n",
    "    fifth takes a list of md files and writes all headlines (lines starting with #) to a file Make sure your module can be called both from cli and imported to another module Create a new module that imports utils.py and test each function.\n"
   ]
  },
  {
   "cell_type": "code",
   "execution_count": 2,
   "metadata": {},
   "outputs": [
    {
     "name": "stdout",
     "output_type": "stream",
     "text": [
      "<module 'utils' from '/home/zzar/Documents/Python/dat4sem2020spring-python/week_2/utils.py'>\n"
     ]
    }
   ],
   "source": [
    "import utils\n",
    "\n",
    "print(utils)\n"
   ]
  },
  {
   "cell_type": "markdown",
   "metadata": {},
   "source": [
    "1. first function takes a path to a folder and writes all filenames in the folder to a specified output file\n",
    "2.second takes a path to a folder and write all filenames recursively (files of all sub folders to)\n"
   ]
  },
  {
   "cell_type": "code",
   "execution_count": 3,
   "metadata": {},
   "outputs": [],
   "source": [
    "utils.filepathtofolder('../', './FolderContent.csv')\n",
    "utils.filepathWritenames('../', './FolderContent.csv')"
   ]
  },
  {
   "cell_type": "markdown",
   "metadata": {},
   "source": [
    "Next we had to make a function that read the first line in a file and print em. \n"
   ]
  },
  {
   "cell_type": "code",
   "execution_count": 7,
   "metadata": {},
   "outputs": [
    {
     "name": "stdout",
     "output_type": "stream",
     "text": [
      "hello world \n",
      "\n"
     ]
    }
   ],
   "source": [
    "l = ['helloworld.txt']\n",
    "utils.print_first_file_line(l)"
   ]
  },
  {
   "cell_type": "markdown",
   "metadata": {},
   "source": [
    "fourth takes a list of filenames and print each line that contains an email (just look for @)"
   ]
  },
  {
   "cell_type": "code",
   "execution_count": null,
   "metadata": {},
   "outputs": [],
   "source": []
  }
 ],
 "metadata": {
  "kernelspec": {
   "display_name": "Python 3",
   "language": "python",
   "name": "python3"
  },
  "language_info": {
   "codemirror_mode": {
    "name": "ipython",
    "version": 3
   },
   "file_extension": ".py",
   "mimetype": "text/x-python",
   "name": "python",
   "nbconvert_exporter": "python",
   "pygments_lexer": "ipython3",
   "version": "3.6.9"
  }
 },
 "nbformat": 4,
 "nbformat_minor": 4
}
