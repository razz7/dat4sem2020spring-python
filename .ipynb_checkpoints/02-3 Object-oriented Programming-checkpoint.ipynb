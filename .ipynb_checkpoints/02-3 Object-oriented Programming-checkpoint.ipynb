{
 "cells": [
  {
   "cell_type": "markdown",
   "metadata": {
    "collapsed": true,
    "slideshow": {
     "slide_type": "subslide"
    }
   },
   "source": [
    "# Object-oriented Programming\n",
    "\n",
    "Object-oriented programming is one of the most common ways to write and structure software. In object-oriented programming you write classes that represent real-world things and situations, and you create objects based on these classes. When you write a class, you define the general\n",
    "behavior that a whole category of objects can have. When you create individual objects from the class, each object is automatically equipped with the general behavior; you can then give each object whatever unique traits you desire. \n",
    "\n",
    "Making an object from a class is called *instantiation*, and you work with instances of a class. \n",
    "\n",
    "\n",
    "## Creating and Using a Class\n",
    "\n",
    "You can model almost anything using classes. Let’s start by writing a simple class, `Book`, that represents a book and its contents—not one book in particular, but any book. What do we know about most books? Well, they likely all have a *title* an *author*, and contain some *chapters*. We also know that you can *read* books and *open* them to inspect them further. Those two pieces of information (title and author) and those two behaviors (read and open) will be constituents of our Book class because they are common to most books. After our class is written, we will use it to create individual instances, each of which represents one specific book.\n",
    "\n",
    "### Creating the Book Class\n",
    "\n",
    "Each instance created from the Book class will store a `title` an `author`, and its `chapters`, and we will give each book the 'ability' to get `read()` and to get opened `open_book()`.\n",
    "\n",
    "#### The __init__() Method\n",
    "\n",
    "A function that’s part of a class is a *method*. Everything you learned about functions applies to methods as well; the only practical difference for now is the way we will call methods. The `__init__()` method is a special method Python runs automatically whenever we create a new instance based on the `Book` class. This method has two leading underscores and two trailing underscores, a convention that helps prevent Python’s default method names from conflicting with your method names.\n",
    "\n",
    "We define the `__init__()` method to have four parameters: `self`, `title`, `author`, and `chapters=`. The `self` parameter is **required** in the method definition, and it must come **first** before the other parameters. It must be included in the definition because when Python calls this `__init__()` method later (to create an instance of `Book`), the method call will automatically pass the `self` argument. Every method call associated with a class automatically passes `self`, which\n",
    "is a reference to the instance itself; it gives the individual instance access to the attributes and methods in the class. When we make an instance of `Book`, Python will call the `__init__()` method from the `Book` class. We will pass `Book()` a `title`, an `author`, and `chapters=` as arguments; `self` is passed automatically, so we do not need to pass it. Whenever we want to make an instance from the`Book` class, we will provide values for only the last three parameters.\n",
    "\n",
    "The three variables defined each have the prefix `self`. Any variable prefixed with `self` is available to every method in the class, and we will also be able to access these variables through any instance created from the class. `self.title = title` takes the value stored in the parameter name and stores it in the variable name, which is then attached to the instance being created. Variables that are accessible through instances like this are called attributes.\n",
    "\n",
    "The `Book` class has two other methods: `read` and `open`. The instances we create later will have access to these methods."
   ]
  },
  {
   "cell_type": "code",
   "execution_count": 1,
   "metadata": {
    "slideshow": {
     "slide_type": "slide"
    }
   },
   "outputs": [
    {
     "ename": "NameError",
     "evalue": "name 'Chapter' is not defined",
     "output_type": "error",
     "traceback": [
      "\u001b[0;31m---------------------------------------------------------------------------\u001b[0m",
      "\u001b[0;31mNameError\u001b[0m                                 Traceback (most recent call last)",
      "\u001b[0;32m<ipython-input-1-fef4dc96c268>\u001b[0m in \u001b[0;36m<module>\u001b[0;34m\u001b[0m\n\u001b[0;32m----> 1\u001b[0;31m \u001b[0;32mclass\u001b[0m \u001b[0mBook\u001b[0m\u001b[0;34m(\u001b[0m\u001b[0;34m)\u001b[0m\u001b[0;34m:\u001b[0m\u001b[0;34m\u001b[0m\u001b[0;34m\u001b[0m\u001b[0m\n\u001b[0m\u001b[1;32m      2\u001b[0m     \"\"\"A simple book model consisting of chapters, which in \n\u001b[1;32m      3\u001b[0m     turn consist of paragraphs.\"\"\"\n\u001b[1;32m      4\u001b[0m \u001b[0;34m\u001b[0m\u001b[0m\n\u001b[1;32m      5\u001b[0m     \u001b[0;32mdef\u001b[0m \u001b[0m__init__\u001b[0m\u001b[0;34m(\u001b[0m\u001b[0mself\u001b[0m\u001b[0;34m,\u001b[0m \u001b[0mtitle\u001b[0m\u001b[0;34m,\u001b[0m \u001b[0mauthor\u001b[0m\u001b[0;34m,\u001b[0m \u001b[0mchapters\u001b[0m\u001b[0;34m=\u001b[0m\u001b[0;34m[\u001b[0m\u001b[0;34m]\u001b[0m\u001b[0;34m)\u001b[0m\u001b[0;34m:\u001b[0m\u001b[0;34m\u001b[0m\u001b[0;34m\u001b[0m\u001b[0m\n",
      "\u001b[0;32m<ipython-input-1-fef4dc96c268>\u001b[0m in \u001b[0;36mBook\u001b[0;34m()\u001b[0m\n\u001b[1;32m     21\u001b[0m         \u001b[0mself\u001b[0m\u001b[0;34m.\u001b[0m\u001b[0mchapters\u001b[0m\u001b[0;34m[\u001b[0m\u001b[0mchapter\u001b[0m \u001b[0;34m-\u001b[0m \u001b[0;36m1\u001b[0m\u001b[0;34m]\u001b[0m\u001b[0;34m.\u001b[0m\u001b[0mread\u001b[0m\u001b[0;34m(\u001b[0m\u001b[0;34m)\u001b[0m\u001b[0;34m\u001b[0m\u001b[0;34m\u001b[0m\u001b[0m\n\u001b[1;32m     22\u001b[0m \u001b[0;34m\u001b[0m\u001b[0m\n\u001b[0;32m---> 23\u001b[0;31m     \u001b[0;32mdef\u001b[0m \u001b[0mopen_book\u001b[0m\u001b[0;34m(\u001b[0m\u001b[0mself\u001b[0m\u001b[0;34m,\u001b[0m \u001b[0mchapter\u001b[0m\u001b[0;34m=\u001b[0m\u001b[0;36m1\u001b[0m\u001b[0;34m)\u001b[0m \u001b[0;34m->\u001b[0m \u001b[0mChapter\u001b[0m\u001b[0;34m:\u001b[0m\u001b[0;34m\u001b[0m\u001b[0;34m\u001b[0m\u001b[0m\n\u001b[0m\u001b[1;32m     24\u001b[0m         \"\"\"Simulate opening a book, which returns a chapter \n\u001b[1;32m     25\u001b[0m         object.\"\"\" \n",
      "\u001b[0;31mNameError\u001b[0m: name 'Chapter' is not defined"
     ]
    }
   ],
   "source": [
    "class Book():\n",
    "    \"\"\"A simple book model consisting of chapters, which in \n",
    "    turn consist of paragraphs.\"\"\"\n",
    "\n",
    "    def __init__(self, title, author, chapters=[]):\n",
    "        \"\"\"Initialize title, the author, and the chapters.\"\"\"\n",
    "        self.title = title \n",
    "        self.author = author\n",
    "        self.chapters = chapters   \n",
    "        \n",
    "    def __repr__(self):\n",
    "        return 'Book(%r, %r, %r)' % (self.title, self.author, self.chapters)\n",
    "    \n",
    "    def __str__(self):\n",
    "        return '{name} by {by} has {nr_chap} chapters.'.format(\n",
    "            name=self.title, by=self.author, nr_chap=len(self.chapters))\n",
    "    \n",
    "    def read(self, chapters=1):\n",
    "        \"\"\"Simulate reading a chapter, by calling the reading \n",
    "        method of a chapter.\"\"\" \n",
    "        self.chapters[chapter - 1].read()\n",
    "        \n",
    "    def open_book(self, chapter=1) -> Chapter:\n",
    "        \"\"\"Simulate opening a book, which returns a chapter \n",
    "        object.\"\"\" \n",
    "        return self.chapters[chapter - 1]"
   ]
  },
  {
   "cell_type": "markdown",
   "metadata": {
    "slideshow": {
     "slide_type": "slide"
    }
   },
   "source": [
    "### Making an Instance from a Class\n",
    "\n",
    "Think of a class as a set of instructions for how to make an instance. The class `Book` is a set of instructions that tells Python how to make individual instances representing specific books.\n",
    "\n",
    "We tell Python to create a book whose title is `'The Book of Silence'` and whose author is `'Nobody'`. When Python reads the line, `silent_book = Book('The Book of Silence', 'Nobody')` it calls the `__init__()` method in `Book` with the arguments `'The Book of Silence'` and `'Nobody'`. The `__init__()` method creates an instance representing this particular book and sets the `author` and `title` attributes using the values we provided. The `__init__()` method has no explicit return statement, but Python automatically returns an instance representing this book. We store that instance in the variable `empty_book`. The *naming convention* is helpful here: we can usually assume that a capitalized name like `Book` refers to a class, and a lowercase name like `empty_book` refers to a single instance created from a class.\n",
    "\n",
    "#### Accessing Attributes\n",
    "\n",
    "To access the attributes of an instance, you use 'dot' notation. We access the value of `empty_book`’s attribute `author` by writing: `empty_book.author`."
   ]
  },
  {
   "cell_type": "code",
   "execution_count": 2,
   "metadata": {
    "slideshow": {
     "slide_type": "slide"
    }
   },
   "outputs": [
    {
     "ename": "NameError",
     "evalue": "name 'Book' is not defined",
     "output_type": "error",
     "traceback": [
      "\u001b[0;31m---------------------------------------------------------------------------\u001b[0m",
      "\u001b[0;31mNameError\u001b[0m                                 Traceback (most recent call last)",
      "\u001b[0;32m<ipython-input-2-e256ba14ffe6>\u001b[0m in \u001b[0;36m<module>\u001b[0;34m\u001b[0m\n\u001b[0;32m----> 1\u001b[0;31m \u001b[0mempty_book\u001b[0m \u001b[0;34m=\u001b[0m \u001b[0mBook\u001b[0m\u001b[0;34m(\u001b[0m\u001b[0;34m'The book of silence'\u001b[0m\u001b[0;34m,\u001b[0m \u001b[0;34m'Nobody'\u001b[0m\u001b[0;34m)\u001b[0m\u001b[0;34m\u001b[0m\u001b[0;34m\u001b[0m\u001b[0m\n\u001b[0m\u001b[1;32m      2\u001b[0m \u001b[0;34m\u001b[0m\u001b[0m\n\u001b[1;32m      3\u001b[0m \u001b[0mprint\u001b[0m\u001b[0;34m(\u001b[0m\u001b[0;34m'Author:'\u001b[0m\u001b[0;34m,\u001b[0m\u001b[0mempty_book\u001b[0m\u001b[0;34m.\u001b[0m\u001b[0mauthor\u001b[0m\u001b[0;34m)\u001b[0m\u001b[0;34m\u001b[0m\u001b[0;34m\u001b[0m\u001b[0m\n\u001b[1;32m      4\u001b[0m \u001b[0mprint\u001b[0m\u001b[0;34m(\u001b[0m\u001b[0;34m'Title:'\u001b[0m\u001b[0;34m,\u001b[0m\u001b[0mempty_book\u001b[0m\u001b[0;34m.\u001b[0m\u001b[0mtitle\u001b[0m\u001b[0;34m)\u001b[0m\u001b[0;34m\u001b[0m\u001b[0;34m\u001b[0m\u001b[0m\n\u001b[1;32m      5\u001b[0m \u001b[0mprint\u001b[0m\u001b[0;34m(\u001b[0m\u001b[0;34m'Length of book:'\u001b[0m\u001b[0;34m,\u001b[0m\u001b[0mlen\u001b[0m\u001b[0;34m(\u001b[0m\u001b[0mempty_book\u001b[0m\u001b[0;34m.\u001b[0m\u001b[0mchapters\u001b[0m\u001b[0;34m)\u001b[0m\u001b[0;34m,\u001b[0m\u001b[0;34m'chapters'\u001b[0m\u001b[0;34m)\u001b[0m\u001b[0;34m\u001b[0m\u001b[0;34m\u001b[0m\u001b[0m\n",
      "\u001b[0;31mNameError\u001b[0m: name 'Book' is not defined"
     ]
    }
   ],
   "source": [
    "empty_book = Book('The book of silence', 'Nobody')\n",
    "\n",
    "print('Author:',empty_book.author)\n",
    "print('Title:',empty_book.title)\n",
    "print('Length of book:',len(empty_book.chapters),'chapters')"
   ]
  },
  {
   "cell_type": "code",
   "execution_count": 3,
   "metadata": {
    "slideshow": {
     "slide_type": "slide"
    }
   },
   "outputs": [],
   "source": [
    "class Chapter():\n",
    "\n",
    "    def __init__(self, number, title, paragraphs):\n",
    "        \"\"\"A chapter consists of multiple paragraphs.\"\"\"\n",
    "        self.number = number\n",
    "        self.title = title\n",
    "        self.paragraphs = []\n",
    "        for paragraph_lines in paragraphs:\n",
    "            new_pragraph = Paragraph(paragraph_lines)\n",
    "            self.paragraphs.append(new_pragraph)\n",
    "\n",
    "    def read(self, paragraph_idx=None):\n",
    "        \"\"\"A paragraph can be read.\"\"\" \n",
    "        if paragraph_idx:\n",
    "            self.paragraphs[paragraph_idx].read()\n",
    "        else:\n",
    "            for paragraph in self.paragraphs:\n",
    "                paragraph.read()"
   ]
  },
  {
   "cell_type": "code",
   "execution_count": 2,
   "metadata": {
    "slideshow": {
     "slide_type": "slide"
    }
   },
   "outputs": [],
   "source": [
    "class Paragraph():\n",
    "    \"\"\"A paragraph consists of a list of lines.\"\"\"\n",
    "\n",
    "    def __init__(self, lines):\n",
    "        \"\"\"Initialize the paragraph with its lines of text.\"\"\"\n",
    "        self.lines = lines\n",
    "\n",
    "    def read(self):\n",
    "        \"\"\"Simulate reading a paragraph by printing its contents.\"\"\" \n",
    "        for line in self.lines:\n",
    "            print(line)"
   ]
  },
  {
   "cell_type": "markdown",
   "metadata": {
    "slideshow": {
     "slide_type": "slide"
    }
   },
   "source": [
    "Now, we get some text from a real book to build an instance of it using the above clases."
   ]
  },
  {
   "cell_type": "code",
   "execution_count": 6,
   "metadata": {
    "slideshow": {
     "slide_type": "slide"
    }
   },
   "outputs": [
    {
     "name": "stdout",
     "output_type": "stream",
     "text": [
      "Downloading file to bones_in_london.txt\n"
     ]
    }
   ],
   "source": [
    "import webget\n",
    "\n",
    "\n",
    "bones_in_london_url = 'http://www.gutenberg.org/cache/epub/27525/pg27525.txt'\n",
    "# download the book\n",
    "webget.download(bones_in_london_url,'bones_in_london.txt')\n",
    "# open it and read all lines in the text file\n",
    "with open('./bones_in_london.txt') as f:\n",
    "    content = f.readlines()\n",
    "\n",
    "\n",
    "def get_text(lower_bound, upper_bound):\n",
    "    \"\"\"A utility function which allow us to read slices of lines\"\"\"\n",
    "    chapter_content = []\n",
    "    paragraph = []\n",
    "    for line in content[lower_bound:upper_bound]:\n",
    "        if line == '\\n':\n",
    "            chapter_content.append(paragraph)\n",
    "            paragraph = []\n",
    "        else:\n",
    "            paragraph.append(line.strip())\n",
    "\n",
    "    return chapter_content"
   ]
  },
  {
   "cell_type": "markdown",
   "metadata": {
    "slideshow": {
     "slide_type": "slide"
    }
   },
   "source": [
    "Now, that we can read some real text from a file, we can create instances of chapters and an instance of a book. For simplicity, our book consists only of the first two chapters."
   ]
  },
  {
   "cell_type": "code",
   "execution_count": 7,
   "metadata": {
    "slideshow": {
     "slide_type": "slide"
    }
   },
   "outputs": [],
   "source": [
    "chapter_1 = Chapter(1, 'Bones and Big Business', get_text(82, 762))\n",
    "chapter_2 = Chapter(2, 'Hidden Treassure', get_text(769, 1455))\n",
    "book = Book('Bones in London', 'Edgar Wallace', [chapter_1, chapter_2])"
   ]
  },
  {
   "cell_type": "code",
   "execution_count": 8,
   "metadata": {
    "slideshow": {
     "slide_type": "slide"
    }
   },
   "outputs": [
    {
     "name": "stdout",
     "output_type": "stream",
     "text": [
      "Edgar Wallace\n",
      "Bones in London\n",
      "2\n"
     ]
    }
   ],
   "source": [
    "print(book.author)\n",
    "print(book.title)\n",
    "print(len(book.chapters))"
   ]
  },
  {
   "cell_type": "markdown",
   "metadata": {
    "slideshow": {
     "slide_type": "slide"
    }
   },
   "source": [
    "### Calling Methods\n",
    "\n",
    "After we create an instance from the class `Book`, we can use 'dot' notation to call any method defined in `Book`. To call a method, give the name of the instance (in this case, `book`) and the method you want to call, separated by a dot. When Python reads `book.read(chapter=1)`, it looks for the method `read(chapter)` in the class `Book` and runs that code."
   ]
  },
  {
   "cell_type": "code",
   "execution_count": null,
   "metadata": {
    "slideshow": {
     "slide_type": "slide"
    }
   },
   "outputs": [],
   "source": [
    "book.read(chapter=1)"
   ]
  },
  {
   "cell_type": "code",
   "execution_count": 10,
   "metadata": {
    "slideshow": {
     "slide_type": "slide"
    }
   },
   "outputs": [
    {
     "name": "stdout",
     "output_type": "stream",
     "text": [
      "The strain and embarrassment of the new relationship with her master\n",
      "were intensified by the arrival of a daughter, and doubled when that\n",
      "daughter came to a knowledgeable age.  Marguerite Whitland had the\n",
      "inherent culture of her father and the grace and delicate beauty which\n",
      "had ever distinguished the women of the house of Bortledyne.\n"
     ]
    }
   ],
   "source": [
    "book.open_book(chapter=2).read(paragraph_idx=3)"
   ]
  },
  {
   "cell_type": "code",
   "execution_count": 11,
   "metadata": {
    "slideshow": {
     "slide_type": "slide"
    }
   },
   "outputs": [
    {
     "name": "stdout",
     "output_type": "stream",
     "text": [
      "The strain and embarrassment of the new relationship with her master\n",
      "were intensified by the arrival of a daughter, and doubled when that\n",
      "daughter came to a knowledgeable age.  Marguerite Whitland had the\n",
      "inherent culture of her father and the grace and delicate beauty which\n",
      "had ever distinguished the women of the house of Bortledyne.\n"
     ]
    }
   ],
   "source": [
    "book.open_book(chapter=2).read(3)"
   ]
  },
  {
   "cell_type": "markdown",
   "metadata": {
    "slideshow": {
     "slide_type": "slide"
    }
   },
   "source": [
    "### Creating Multiple Instances\n",
    "\n",
    "You can create as many instances from a class as you need. Even if we used the same `title`, `author`, and `chapters` for the second book, Python would still create a separate instance from the `Book` class. You can make as many instances from one class as you need, as long as you give each instance a unique variable name or it occupies a unique spot in a list or dictionary."
   ]
  },
  {
   "cell_type": "code",
   "execution_count": null,
   "metadata": {
    "collapsed": true,
    "slideshow": {
     "slide_type": "slide"
    }
   },
   "outputs": [],
   "source": [
    "chapter_1 = Chapter(1, 'Bones and Big Business', get_text(82, 762))\n",
    "chapter_2 = Chapter(2, 'Hidden Treassure', get_text(769, 1455))\n",
    "book = Book('Bones in London', 'Edgar Wallace', [chapter_1, chapter_2])\n",
    "\n",
    "book"
   ]
  },
  {
   "cell_type": "markdown",
   "metadata": {
    "slideshow": {
     "slide_type": "slide"
    }
   },
   "source": [
    "# Working with Classes and Instances\n",
    "\n",
    "You can use classes to represent many real-world situations. Once you write a class, you will spend most of your time working with instances created from that class. One of the first tasks you will want to do is modify the attributes associated with a particular instance. You can modify the attributes of an instance directly or write methods that update attributes in specific ways.\n",
    "\n",
    "\n",
    "## String representation\n",
    "\n",
    "**`__repr__()` vs `__str__()` methods**:\n",
    "\n",
    "\n",
    "`__repr__` is a special method, that is called by the `repr()` built-in python method, to get string representation of the object for inspection. If we did not implement `__repr__`, book instances would be shown in the console like `<Book at 0x7f43aea894a8>`.  \n",
    "The interactive console and debugger call `repr()` on the results of the expressions evaluated, \n",
    "\n",
    "Note that in our `__repr__` implementation we used the `%r`-placeholder to obtain the standard representation of the attributes to be displayed. This is good practice (since `%r` is using the objects __repr__ method, where `%s` is using its __str__ method).\n",
    "\n",
    "The string returned by `__repr__` should be unambiguous and, if possible, **match the source code necessary to recreate the object** being represented. That is why our chosen representation looks like calling the constructor of the class, e.g. `Book('The Book of Silence', 'Nobody', [])`.\n",
    "\n",
    "Contrast `__repr__` with `__str__`, which is called by the `str()` constructor and **implicitly used by the print function**. `__str__` should return **a string suitable for display to end-users**.\n",
    "\n",
    "\n",
    "If you only implement one of these special methods, choose `__repr__`, because when no custom `__str__` is available, Python will call `__repr__` as a fallback.\n"
   ]
  },
  {
   "cell_type": "code",
   "execution_count": null,
   "metadata": {
    "collapsed": true,
    "slideshow": {
     "slide_type": "slide"
    }
   },
   "outputs": [],
   "source": [
    "str(book)"
   ]
  },
  {
   "cell_type": "code",
   "execution_count": 9,
   "metadata": {
    "collapsed": true,
    "slideshow": {
     "slide_type": "slide"
    }
   },
   "outputs": [],
   "source": [
    "class Book():\n",
    "    \"\"\"A simple book model consisting of chapters, which in \n",
    "    turn consist of paragraphs.\"\"\"\n",
    "\n",
    "    def __init__(self, title, author, chapters=[]):\n",
    "        \"\"\"Initialize title, the author, and the chapters.\"\"\"\n",
    "        self.title = title \n",
    "        self.author = author\n",
    "        self.chapters = chapters        \n",
    "    \n",
    "    def __repr__(self):\n",
    "        return 'Book(%r, %r, %r)' % (self.title, self.author, \n",
    "                                     self.chapters)\n",
    "    \n",
    "    def __str__(self):\n",
    "        return '{name} by {by} has {nr_chap} chapters.'.format(\n",
    "            name=self.title, by=self.author, nr_chap=len(self.chapters))\n",
    "    \n",
    "    \n",
    "    def read(self, chapter=1):\n",
    "        \"\"\"Simulate reading a chapter, by calling the reading \n",
    "        method of a chapter.\"\"\" \n",
    "        self.chapters[chapter - 1].read()\n",
    "        \n",
    "    def open_book(self, chapter=1):\n",
    "        \"\"\"Simulate opening a book, which returns a chapter \n",
    "        object.\"\"\" \n",
    "        return self.chapters[chapter - 1]\n",
    "    \n",
    "\n",
    "class Chapter():\n",
    "\n",
    "    def __init__(self, number, title, paragraphs):\n",
    "        \"\"\"A chapter consists of multiple paragraphs.\"\"\"\n",
    "        self.number = number\n",
    "        self.title = title\n",
    "        self.paragraphs = []\n",
    "        for paragraph_lines in paragraphs:\n",
    "            new_pragraph = Paragraph(paragraph_lines)\n",
    "            self.paragraphs.append(new_pragraph)\n",
    "\n",
    "    def __repr__(self):\n",
    "        return 'Chapter(%r, %r, %r)' % (self.number, self.title, \n",
    "                                        self.paragraphs)\n",
    "    \n",
    "    def read(self, paragraph_idx=None):\n",
    "        \"\"\"A paragraph can be read.\"\"\" \n",
    "        if paragraph_idx:\n",
    "            self.paragraphs[paragraph_idx].read()\n",
    "        else:\n",
    "            for paragraph in self.paragraphs:\n",
    "                paragraph.read()\n",
    "                \n",
    "class Paragraph():\n",
    "    \"\"\"A paragraph consists of a list of lines.\"\"\"\n",
    "\n",
    "    def __init__(self, lines):\n",
    "        \"\"\"Initialize the paragraph with its lines of text.\"\"\"\n",
    "        self.lines = lines\n",
    "        \n",
    "    def __repr__(self):\n",
    "        return 'Paragraph(%r)' % (self.lines)\n",
    "    \n",
    "    def __str__(self):\n",
    "        return '{}...'.format(self.lines[0][0:35])\n",
    "\n",
    "    def read(self):\n",
    "        \"\"\"Simulate reading a paragraph by printing its contents.\"\"\" \n",
    "        for line in self.lines:\n",
    "            print(line)"
   ]
  },
  {
   "cell_type": "code",
   "execution_count": 10,
   "metadata": {
    "slideshow": {
     "slide_type": "slide"
    }
   },
   "outputs": [
    {
     "name": "stdout",
     "output_type": "stream",
     "text": [
      "The Empty Book by Helge has 0 chapters.\n",
      "Mrs. Staleyborn's first husband was...\n"
     ]
    },
    {
     "data": {
      "text/plain": [
       "[Paragraph([\"Mrs. Staleyborn's first husband was a dreamy Fellow of a Learned\", 'University.']),\n",
       " Paragraph(['Her second husband had begun life at the bottom of the ladder as a', 'three-card trickster, and by strict attention to business and the', 'exercise of his natural genius, had attained to the proprietorship of a', 'bucket-shop.']),\n",
       " Paragraph(['When Mrs. Staleyborn was Miss Clara Smith, she had been housekeeper to', 'Professor Whitland, a biologist who discovered her indispensability,', 'and was only vaguely aware of the social gulf which yawned between the', 'youngest son of the late Lord Bortledyne and the only daughter of', 'Albert Edward Smith, mechanic.  To the Professor she was Miss _H.', 'Sapiens_--an agreeable, featherless plantigrade biped of the genus', '_Homo_.  She was also thoroughly domesticated and cooked like an angel,', 'a nice woman who apparently never knew that her husband had a Christian', 'name, for she called him \"Mr. Whitland\" to the day of his death.']),\n",
       " Paragraph(['The strain and embarrassment of the new relationship with her master', 'were intensified by the arrival of a daughter, and doubled when that', 'daughter came to a knowledgeable age.  Marguerite Whitland had the', 'inherent culture of her father and the grace and delicate beauty which', 'had ever distinguished the women of the house of Bortledyne.']),\n",
       " Paragraph(['When the Professor died, Mrs. Whitland mourned him in all sincerity.', 'She was also relieved.  One-half of the burden which lay upon her had', 'been lifted; the second half was wrestling with the binomial theorem at', 'Cheltenham College.']),\n",
       " Paragraph(['She had been a widow twelve months when she met Mr. Cresta Morris, and,', 'if the truth be told, Mr. Cresta Morris more fulfilled her conception', 'as to what a gentleman should look like than had the Professor.  Mr.', 'Cresta Morris wore white collars and beautiful ties, had a large gold', 'watch-chain over what the French call poetically a _gilet de fantasie_,', 'but which he, in his own homely fashion, described as a \"fancy weskit.\"', 'He smoked large cigars, was bluff and hearty, spoke to the widow--he', 'was staying at Harrogate at the time in a hydropathic establishment--in', 'a language which she could understand.  Dimly she began to realize that', 'the Professor had hardly spoken to her at all.']),\n",
       " Paragraph(['Mr. Cresta Morris was one of those individuals who employed a', 'vocabulary of a thousand words, with all of which Mrs. Whitland was', 'well acquainted; he was also a man of means and possessions, he', 'explained to her.  She, giving confidence for confidence, told of the', 'house at Cambridge, the furniture, the library, the annuity of three', \"hundred pounds, earmarked for his daughter's education, but mistakenly\", 'left to his wife for that purpose, also the four thousand three hundred', 'pounds invested in War Stock, which was wholly her own.']),\n",
       " Paragraph(['Mr. Cresta Morris became more agreeable than ever.  In three months', 'they were married, in six months the old house at Cambridge had been', 'disposed of, the library dispersed, as much of the furniture as Mr.', 'Morris regarded as old-fashioned sold, and the relict of Professor', 'Whitland was installed in a house in Brockley.']),\n",
       " Paragraph(['It was a nice house--in many ways nicer than the rambling old building', \"in Cambridge, from Mrs. Morris's point of view.  And she was happy in a\", 'tolerable, comfortable kind of fashion, and though she was wholly', 'ignorant as to the method by which her husband made his livelihood, she', 'managed to get along very well without enlightenment.']),\n",
       " Paragraph(['Marguerite was brought back from Cheltenham to grace the new', 'establishment and assist in its management.  She shared none of her', \"mother's illusions as to the character of Mr. Cresta Morris, as that\", 'gentleman explained to a very select audience one January night.']),\n",
       " Paragraph(['Mr. Morris and his two guests sat before a roaring fire in the', 'dining-room, drinking hot brandies-and-waters.  Mrs. Morris had gone to', 'bed; Marguerite was washing up, for Mrs. Morris had the \"servant\\'s', 'mind,\" which means that she could never keep a servant.']),\n",
       " Paragraph(['The sound of crashing plates had come to the dining-room and', 'interrupted Mr. Morris at a most important point of his narrative.  He', 'jerked his head round.']),\n",
       " Paragraph(['\"That\\'s the girl,\" he said; \"she\\'s going to be a handful.\"']),\n",
       " Paragraph(['\"Get her married,\" said Job Martin wisely.']),\n",
       " Paragraph(['He was a hatchet-faced man with a reputation for common-sense.  He had', 'another reputation which need not be particularized at the moment.']),\n",
       " Paragraph(['\"Married?\" scoffed Mr. Morris.  \"Not likely!\"']),\n",
       " Paragraph(['He puffed at his cigar thoughtfully for a moment, then:']),\n",
       " Paragraph(['\"She wouldn\\'t come in to dinner--did you notice that?  We are not good', \"enough for her.  She's fly!  Fly ain't the word for it.  We always find\", 'her nosing and sneaking around.\"']),\n",
       " Paragraph(['\"Send her back to school,\" said the third guest.']),\n",
       " Paragraph(['He was a man of fifty-five, broad-shouldered, clean-shaven, who had', 'literally played many parts, for he had been acting in a touring', 'company when Morris first met him--Mr. Timothy Webber, a man not', 'unknown to the Criminal Investigation Department.']),\n",
       " Paragraph(['\"She might have been useful,\" Mr. Morris went on regretfully, \"very', \"useful indeed.  She is as pretty as a picture, I'll give her that due.\", 'Now, suppose she----\"']),\n",
       " Paragraph(['Webber shook his head.']),\n",
       " Paragraph(['\"It\\'s my way or no way,\" he said decidedly.  \"I\\'ve been a month', 'studying this fellow, and I tell you I know him inside out.\"']),\n",
       " Paragraph(['\"Have you been to see him?\" asked the second man.']),\n",
       " Paragraph(['\"Am I a fool?\" replied the other roughly.  \"Of course I have not been', \"to see him.  But there are ways of finding out, aren't there?  He is\", \"not the kind of lad that you can work with a woman, not if she's as\", 'pretty as paint.\"']),\n",
       " Paragraph(['\"What do they call him?\" asked Morris.']),\n",
       " Paragraph(['\"Bones,\" said Webber, with a little grin.  \"At least, he has letters', \"which start 'Dear Bones,' so I suppose that's his nickname.  But he's\", 'got all the money in the world.  He is full of silly ass schemes, and', 'he\\'s romantic.\"']),\n",
       " Paragraph(['\"What\\'s that to do with it?\" asked Job Martin, and Webber turned with a', 'despairing shrug to Morris.']),\n",
       " Paragraph(['\"For a man who is supposed to have brains----\" he said, but Morris', 'stopped him with a gesture.']),\n",
       " Paragraph(['\"I see the idea--that\\'s enough.\"']),\n",
       " Paragraph(['He ruminated again, chewing at his cigar, then, with a shake of his', 'head----']),\n",
       " Paragraph(['\"I wish the girl was in it.\"']),\n",
       " Paragraph(['\"Why?\" asked Webber curiously.']),\n",
       " Paragraph(['\"Because she\\'s----\"  He hesitated.  \"I don\\'t know what she knows about', \"me.  I can guess what she guesses.  I'd like to get her into something\", 'like this, to--to----\"  He was at a loss for a word.']),\n",
       " Paragraph(['\"Compromise?\" suggested the more erudite Webber.']),\n",
       " Paragraph(['\"That\\'s the word.  I\\'d like to have her like that!\"  He put his thumb', 'down on the table in an expressive gesture.']),\n",
       " Paragraph(['Marguerite, standing outside, holding the door-handle hesitating as to', 'whether she should carry in the spirit kettle which Mr. Morris had', 'ordered, stood still and listened.']),\n",
       " Paragraph(['The houses in Oakleigh Grove were built in a hurry, and at best were', 'not particularly sound-proof.  She stood fully a quarter of an hour', 'whilst the three men talked in low tones, and any doubts she might have', \"had as to the nature of her step-father's business were dispelled.\"]),\n",
       " Paragraph(['Again there began within her the old fight between her loyalty to her', 'mother and loyalty to herself and her own ideals.  She had lived', 'through purgatory these past twelve months, and again and again she had', 'resolved to end it all, only to be held by pity for the helpless woman', 'she would be deserting.  She told herself a hundred times that her', 'mother was satisfied in her placid way with the life she was living,', 'and that her departure would be rather a relief than a cause for', 'uneasiness.  Now she hesitated no longer, and went back to the kitchen,', 'took off the apron she was wearing, passed along the side-passage, up', 'the stairs to her room, and began to pack her little bag.']),\n",
       " Paragraph(['Her mother was facing stark ruin.  This man had drawn into his hands', 'every penny she possessed, and was utilizing it for the furtherance of', 'his own nefarious business.  She had an idea--vague as yet, but later', 'taking definite shape--that if she might not save her mother from the', 'wreck which was inevitable, she might at least save something of her', 'little fortune.']),\n",
       " Paragraph(['She had \"nosed around\" to such purpose that she had discovered her', 'step-father was a man who for years had evaded the grip of an', 'exasperated constabulary.  Some day he would fall, and in his fall', 'bring down her mother.']),\n",
       " Paragraph(['Mr. Cresta Morris absorbed in the elaboration of the great plan, was', 'reminded, by the exhaustion of visible refreshment, that certain of his', 'instructions had not been carried out.']),\n",
       " Paragraph(['\"Wait a minute,\" he said.  \"I told that girl to bring in the kettle at', \"half-past nine.  I'll go out and get it.  Her royal highness wouldn't\", 'lower herself by bringing it in, I suppose!\"']),\n",
       " Paragraph(['He found the kettle on the kitchen table, but there was no sign of', 'Marguerite.  This was the culmination of a succession of \"slights\"', 'which she had put on him, and in a rage he walked along the passage,', 'and yelled up the stairs:']),\n",
       " Paragraph(['\"Marguerite!\"']),\n",
       " Paragraph(['There was no reply, and he raced up to her room.  It was empty, but', 'what was more significant, her dresses and the paraphernalia which', 'usually ornamented her dressing-table had disappeared.']),\n",
       " Paragraph(['He came down a very thoughtful man.']),\n",
       " Paragraph(['\"She\\'s hopped,\" he said laconically.  \"I was always afraid of that.\"']),\n",
       " Paragraph(['It was fully an hour before he recovered sufficiently to bring his mind', 'to a scheme of such fascinating possibilities that even his', \"step-daughter's flight was momentarily forgotten\"]),\n",
       " Paragraph(['*      *      *      *      *']),\n",
       " Paragraph(['On the following morning Mr. Tibbetts received a visitor.']),\n",
       " Paragraph(['That gentleman who was, according to the information supplied by Mr.', 'Webber, addressed in intimate correspondence as \"Dear Bones,\" was', 'sitting in his most gorgeous private office, wrestling with a letter to', 'the eminent firm of Timmins and Timmins, yacht agents, on a matter of a', 'luckless purchase of his.']),\n",
       " Paragraph([]),\n",
       " Paragraph(['\"DEAR SIRS GENENTLEMEN\" (ran the letter.  Bones wrote as he thought,', 'thought faster than he wrote, and never opened a dictionary save to', 'decide a bet)--\"I told you I have told you 100000 times that the yacht', '_Luana_ I bought from your cleint (a nice cleint I must say!!!) is a', 'frord fruad and a _swindel_.  It is much two too big.  2000 pounds was', \"a swindel outraygious!!  Well I've got it got it now so theres theirs\", 'no use crying over split milk.  But do like a golly old yaght-seller', 'get red of it rid of it.  Sell it to _anybody_ even for a 1000 pounds.', 'I must have been mad to buy it but he was such a plausuble chap....\"']),\n",
       " Paragraph([]),\n",
       " Paragraph(['This and more he wrote and was writing, when the silvery bell announced', 'a visitor.  It rang many times before he realized that he had sent his', 'factotum, Ali Mahomet, to the South Coast to recover from a', 'sniffle--the after-effects of a violent cold--which had been', 'particularly distressing to both.  Four times the bell rang, and four', 'times Bones raised his head and scowled at the door, muttering violent', 'criticisms of a man who at that moment was eighty-five miles away.']),\n",
       " Paragraph(['Then he remembered, leapt up, sprinted to the door, flung it open with', 'an annoyed:']),\n",
       " Paragraph(['\"Come in!  What the deuce are you standing out there for?\"']),\n",
       " Paragraph(['Then he stared at his visitor, choked, went very red, choked again, and', 'fixed his monocle.']),\n",
       " Paragraph(['\"Come in, young miss, come in,\" he said gruffly.  \"Jolly old bell\\'s out', \"of order.  Awfully sorry and all that sort of thing.  Sit down, won't\", 'you?\"']),\n",
       " Paragraph(['In the outer office there was no visible chair.  The excellent Ali', 'preferred sitting on the floor, and visitors were not encouraged.']),\n",
       " Paragraph(['\"Come into my office,\" said Bones, \"my private office.\"']),\n",
       " Paragraph(['The girl had taken him in with one comprehensive glance, and a little', 'smile trembled on the corner of her lips as she followed the harassed', 'financier into his \"holy of holies.\"']),\n",
       " Paragraph(['\"My little den,\" said Bones incoherently.  \"Sit down, jolly old--young', \"miss.  Take my chair--it's the best.  Mind how you step over that\", 'telephone wire.  Ah!\"']),\n",
       " Paragraph(['She did catch her feet in the flex, and he sprang to her assistance.']),\n",
       " Paragraph(['\"Upsy, daisy, dear old--young miss, I mean.\"']),\n",
       " Paragraph(['It was a breathless welcome.  She herself was startled by the warmth of', 'it; he, for his part, saw nothing but grey eyes and a perfect mouth,', 'sensed nothing but a delicate fragrance of a godlike presence.']),\n",
       " Paragraph(['\"I have come to see you----\" she began.']),\n",
       " Paragraph(['\"Jolly good of you,\" said Bones enthusiastically.  \"You\\'ve no idea how', \"fearsomely lonely I get sometimes.  I often say to people: 'Look me up,\", \"dear old thing, any time between ten and twelve or two and four; don't\", 'stand on ceremony----\\'\"']),\n",
       " Paragraph(['\"I\\'ve come to see you----\" she began again.']),\n",
       " Paragraph(['\"You\\'re a kind young miss,\" murmured Bones, and she laughed.']),\n",
       " Paragraph(['\"You\\'re not used to having girls in this office, are you?\"']),\n",
       " Paragraph(['\"You\\'re the first,\" said Bones, with a dramatic flourish, \"that ever', 'burst tiddly-um-te-um!\"']),\n",
       " Paragraph(['To be mistaken for a welcome visitor--she was that, did she but guess', 'it--added to her natural embarrassment.']),\n",
       " Paragraph(['\"Well,\" she said desperately, \"I\\'ve come for work.\"']),\n",
       " Paragraph(['He stared at her, refixing his monocle.']),\n",
       " Paragraph(['\"You\\'ve come for work my dear old--my jolly old--young miss?\"']),\n",
       " Paragraph(['\"I\\'ve come for work,\" she nodded.']),\n",
       " Paragraph([\"Bones's face was very grave.\"]),\n",
       " Paragraph(['\"You\\'ve come for work.\"  He thought a moment; then: \"What work?  Of', 'course,\" he added in a flurry, \"there\\'s plenty of work to do!  Believe', \"me, you don't know the amount I get through in this sanctum--that's\", \"Latin for 'private office'--and the wretched old place is never\", 'tidy--never!  I am seriously thinking\"--he frowned--\"yes, I am very', 'seriously thinking of sacking the lady who does the dusting.  Why, do', 'you know, this morning----\"']),\n",
       " Paragraph([\"Her eyes were smiling now, and she was to Bones's unsophisticated eyes,\", 'and, indeed, to eyes sophisticated, superhumanly lovely.']),\n",
       " Paragraph(['\"I haven\\'t come for a dusting job,\" she laughed.']),\n",
       " Paragraph(['\"Of course you haven\\'t,\" said Bones in a panic.  \"My dear old lady--my', \"precious--my young person, I should have said--of course you haven't!\", \"You've come for a job--you've come to work!  Well, you shall have it!\", 'Start right away!\"']),\n",
       " Paragraph(['She stared.']),\n",
       " Paragraph(['\"What shall I do?\" she asked.']),\n",
       " Paragraph(['\"What would I like you to do?\" said Bones slowly.  \"What about', 'scheming, getting out ideas, using brains, initiative, bright----\"  He', 'trailed off feebly as she shook her head.']),\n",
       " Paragraph(['\"Do you want a secretary?\" she asked, and Bones\\'s enthusiasm rose to', 'the squeaking point.']),\n",
       " Paragraph(['\"The very thing!  I advertised in this morning\\'s _Times_.  You saw the', 'advertisement?\"']),\n",
       " Paragraph(['\"You are not telling the truth,\" she said, looking at him with eyes', 'that danced.  \"I read all the advertisement columns in _The Times_ this', 'morning, and I am quite sure that you did not advertise.\"']),\n",
       " Paragraph(['\"I meant to advertise,\" said Bones gently.  \"I had the idea last night;', 'that\\'s the very piece of paper I was writing the advertisement on.\"']),\n",
       " Paragraph(['He pointed to a sheet upon the pad.']),\n",
       " Paragraph(['\"A secretary?  The very thing!  Let me think.\"']),\n",
       " Paragraph(['He supported his chin upon one hand, his elbow upon another.']),\n",
       " Paragraph(['\"You will want paper, pens, and ink--we have all those,\" he said.', '\"There is a large supply in that cupboard.  Also india-rubber.  I am', 'not sure if we have any india-rubber, but that can be procured.  And a', 'ruler,\" he said, \"for drawing straight lines and all that sort of', 'thing.\"']),\n",
       " Paragraph(['\"And a typewriter?\" she suggested.']),\n",
       " Paragraph(['Bones smacked his forehead with unnecessary violence.']),\n",
       " Paragraph(['\"A typewriter!  I knew this office wanted something.  I said to Ali', 'yesterday: \\'You silly old ass----\\'\"']),\n",
       " Paragraph(['\"Oh, you have a girl?\" she said disappointedly.']),\n",
       " Paragraph(['\"Ali,\" said Bones, \"is the name of a native man person who is devoted', 'to me, body and soul.  He has been, so to speak, in the family for', 'years,\" he explained.']),\n",
       " Paragraph(['\"Oh, it\\'s a man,\" she said.']),\n",
       " Paragraph(['Bones nodded.']),\n",
       " Paragraph(['\"Ali.  Spelt A-l-y; it\\'s Arabic.\"']),\n",
       " Paragraph(['\"A native?\"']),\n",
       " Paragraph(['Bones nodded.']),\n",
       " Paragraph(['\"Of course he will not be in your way,\" ha hastened to explain.  \"He is', 'in Bournemouth just now.  He had sniffles.\"  he explained rapidly, \"and', \"then he used to go to sleep, and snore.  I hate people who snore, don't\", 'you?\"']),\n",
       " Paragraph(['She laughed again.  This was the most amazing of all possible employers.']),\n",
       " Paragraph(['\"Of course,\" Bones went on, \"I snore a bit myself.  All thinkers do--I', 'mean all brainy people.  Not being a jolly old snorer yourself----\"']),\n",
       " Paragraph(['\"Thank you,\" said the girl.']),\n",
       " Paragraph(['Other tenants or the satellites of other tenants who occupied the', 'palatial buildings wherein the office of Bones was situated saw, some', 'few minutes later, a bare-headed young man dashing down the stairs', 'three at a time; met him, half an hour later, staggering up those same', 'stairs handicapped by a fifty-pound typewriter in one hand, and a chair', 'in the style of the late Louis Quinze in the other, and wondered at the', 'urgency of his movements.']),\n",
       " Paragraph(['\"I want to tell you,\" said the girl, \"that I know very little about', 'shorthand.\"']),\n",
       " Paragraph(['\"Shorthand is quite unnecessary, my dear--my jolly old stenographer,\"', 'said Bones firmly.  \"I object to shorthand on principle, and I shall', 'always object to it.  If people,\" he went on, \"were intended to write', 'shorthand, they would have been born without the alphabet.  Another', 'thing----\"']),\n",
       " Paragraph(['\"One moment, Mr. Tibbetts,\" she said.  \"I don\\'t know a great deal about', 'typewriting, either.\"']),\n",
       " Paragraph(['Bones beamed.']),\n",
       " Paragraph(['\"There I can help you,\" he said.  \"Of course it isn\\'t necessary that', 'you should know anything about typewriting.  But I can give you a few', 'hints,\" he said.  \"This thing, when you jiggle it up and down, makes', 'the thingummy-bob run along.  Every time you hit one of these', \"letters----  I'll show you....  Now, suppose I am writing 'Dear Sir,' I\", 'start with a \\'D.\\'  Now, where\\'s that jolly old \\'D\\'?\"  He scowled at the', 'keyboard, shook his head, and shrugged his shoulders.  \"I thought so,\"', 'he said; \"there ain\\'t a \\'D.\\'  I had an idea that that wicked old----\"']),\n",
       " Paragraph(['\"Here\\'s the \\'D,\\'\" she pointed out.']),\n",
       " Paragraph(['Bones spent a strenuous but wholly delightful morning and afternoon.', 'He was half-way home to his chambers in Curzon Street before he', 'realized that he had not fixed the rather important question of salary.', 'He looked forward to another pleasant morning making good that lapse.']),\n",
       " Paragraph(['It was his habit to remain late at his office at least three nights a', 'week, for Bones was absorbed in his new career.']),\n",
       " Paragraph(['\"Schemes Ltd.\" was no meaningless title.  Bones had schemes which', 'embraced every field of industrial, philanthropic, and social activity.', 'He had schemes for building houses, and schemes for planting rose trees', 'along all the railway tracks.  He had schemes for building motor-cars,', 'for founding labour colonies, for harnessing the rise and fall of the', 'tides, he had a scheme for building a theatre where the audience sat on', 'a huge turn-table, and, at the close of one act, could be twisted', 'round, with no inconvenience to themselves, to face a stage which has', 'been set behind them.  Piqued by a certain strike which had caused him', 'a great deal of inconvenience, he was engaged one night working out a', 'scheme for the provision of municipal taxicabs, and he was so absorbed', 'in his wholly erroneous calculations that for some time he did not hear', 'the angry voices raised outside the door of his private office.']),\n",
       " Paragraph(['Perhaps it was that that portion of his mind which had been left free', 'to receive impressions was wholly occupied with a scheme--which', 'appeared in no books or records--for raising the wages of his new', 'secretary.']),\n",
       " Paragraph(['But presently the noise penetrated even to him, and he looked up with a', 'touch of annoyance.']),\n",
       " Paragraph(['\"At this hour of the night! ...  Goodness gracious ... respectable', 'building!\"']),\n",
       " Paragraph(['His disjointed comments were interrupted by the sound of a scuffle, an', 'oath, a crash against his door and a groan, and Bones sprang to the', 'door and threw it open.']),\n",
       " Paragraph(['As he did so a man who was leaning against it fell in.']),\n",
       " Paragraph(['\"Shut the door, quick!\" he gasped, and Bones obeyed.']),\n",
       " Paragraph(['The visitor who had so rudely irrupted himself was a man of middle age,', 'wearing a coarse pea-jacket and blue jersey of a seaman, his peaked hat', 'covered with dust, as Bones perceived later, when the sound of', 'scurrying footsteps had died away.']),\n",
       " Paragraph(['The man was gripping his left arm as if in pain, and a thin trickle of', 'red was running down the back of his big hand.']),\n",
       " Paragraph(['\"Sit down, my jolly old mariner,\" said Bones anxiously.  \"What\\'s the', 'matter with you?  What\\'s the trouble, dear old sea-dog?\"']),\n",
       " Paragraph(['The man looked up at him with a grimace.']),\n",
       " Paragraph(['\"They nearly got it, the swine!\" he growled.']),\n",
       " Paragraph(['He rolled up his sleeve and, deftly tying a handkerchief around a red', 'patch, chuckled:']),\n",
       " Paragraph(['\"It is only a scratch,\" he said.  \"They\\'ve been after me for two days,', \"Harry Weatherall and Jim Curtis.  But right's right all the world over.\", \"I've suffered enough to get what I've got--starved on the high seas,\", \"and starved on Lomo Island.  Is it likely that I'm going to let them\", 'share?\"']),\n",
       " Paragraph(['Bones shook his head.']),\n",
       " Paragraph(['\"You sit down, my dear old fellow,\" he said sympathetically.']),\n",
       " Paragraph(['The man thrust his hands laboriously into his inside pocket and pulled', 'out a flat oilskin case.  From this he extracted a folded and faded', 'chart.']),\n",
       " Paragraph(['\"I was coming up to see a gentleman in these buildings,\" he said, \"a', 'gentleman named Tibbetts.\"']),\n",
       " Paragraph(['Bones opened his mouth to speak, but stopped himself.']),\n",
       " Paragraph(['\"Me and Jim Curtis and young Harry, we were together in the _Serpent', \"Queen_--my name's Dibbs.  That's where we got hold of the yarn about\", \"Lomo Island, though we didn't believe there was anything in it.  But\", 'when this Dago died----\"']),\n",
       " Paragraph(['\"Which Dago?\" asked Bones.']),\n",
       " Paragraph(['\"The Dago that knew all about it,\" said Mr. Dibbs impatiently, \"and we', 'come to split up his kit in his mess-bag, I found this.\"  He shook the', 'oilskin case in Bones\\'s face.  \"Well, the first thing I did, when I got', 'to Sydney, was to desert, and I got a chap from Wellington to put up', 'the money to hire a boat to take me to Lomo.  We were wrecked on Lomo.\"']),\n",
       " Paragraph(['\"So you got there?\" said Bones sympathetically.']),\n",
       " Paragraph(['\"Six weeks I was on Lomo.  Ate nothing but crabs, drank nothing but', 'rain-water.  But the stuff was there all right, only\"--he was very', 'emphatic, was this simple old sea-dog--\"it wasn\\'t under the third tree,', 'but the fourth tree.  I got down to the first of the boxes, and it was', \"as much as I could do to lift it out.  I couldn't trust any of the\", 'Kanaka boys who were with me.\"']),\n",
       " Paragraph(['\"Naturally,\" said Bones.  \"An\\' I\\'ll bet they didn\\'t trust you, the', 'naughty old Kanakas.\"']),\n",
       " Paragraph(['\"Look here,\" said Mr. Dibbs, and he pulled out of his pocket a handful', 'of gold coins which bore busts of a foreign-looking lady and gentleman.', '\"Spanish gold, that is,\" he said.  \"There was four thousand in the', \"little box.  I filled both my pockets, and took 'em back to Sydney when\", \"we were picked up.  I didn't dare try in Australia.  'That gold will\", \"keep,' I says to myself.  'I'll get back to England and find a man who\", 'will put up the money for an expedition\\'--a gentleman, you understand?\"']),\n",
       " Paragraph(['\"I quite understand,\" said Bones, all a-quiver with excitement.']),\n",
       " Paragraph(['\"And then I met Harry and Jim.  They said they\\'d got somebody who would', 'put the money up, an American fellow, Rockefeller.  Have you ever heard', 'of him?\"']),\n",
       " Paragraph(['\"I\\'ve heard of him,\" said Bones; \"he\\'s got a paraffin mine.\"']),\n",
       " Paragraph(['\"It may be he has, it may be he hasn\\'t,\" said Mr. Dibbs and rose.', '\"Well, sir, I\\'m very much obliged to you for your kindness.  If you\\'ll', 'direct me to Mr. Tibbetts\\'s office----\"']),\n",
       " Paragraph(['It was a dramatic moment.']),\n",
       " Paragraph(['\"I am Mr. Tibbetts,\" said Bones simply.']),\n",
       " Paragraph(['Blank incredulity was on the face of Mr. Dibbs.']),\n",
       " Paragraph(['\"You?\" he said.  \"But I thought Mr. Tibbetts was an older gentleman?\"']),\n",
       " Paragraph(['\"Dear old treasure-finder,\" said Bones, \"be assured I am Mr. Tibbetts.', 'This is my office, and this is my desk.  People think I am older', 'because----\"  He smiled a little sadly, then: \"Sit down!\" he thundered.', '\"Let us go into this.\"']),\n",
       " Paragraph(['He went into the matter, and the City clocks were booming one when he', 'led his mariner friend into the street.']),\n",
       " Paragraph(['He was late at the office the next morning, because he was young and', 'healthy and required nine hours of the deepest slumber that Morpheus', 'kept in stock.']),\n",
       " Paragraph(['The grey-eyed girl was typing at a very respectable speed the notes', 'Bones had given her the evening before.  There was a telegram awaiting', 'him, which he read with satisfaction.  Then:']),\n",
       " Paragraph(['\"Leave your work, my young typewriter,\" said Bones imperiously.  \"I', 'have a matter of the greatest importance to discuss with you!  See that', 'all the doors are closed,\" he whispered; \"lock \\'em if necessary.\"']),\n",
       " Paragraph(['\"I hardly think that\\'s necessary,\" said the girl.  \"You see, if anybody', 'came and found all the doors locked----\"']),\n",
       " Paragraph(['\"Idiot!\" said Bones, very red.']),\n",
       " Paragraph(['\"I beg your pardon,\" said the startled girl.']),\n",
       " Paragraph(['\"I was speaking to me,\" said Bones rapidly.  \"This is a matter of the', 'greatest confidence, my jolly old Marguerite \"--he paused, shaking at', 'his temerity, for it was only on the previous day that he had', 'discovered her name--\"a matter which requires tact and discretion,', 'young Marguerite----\"']),\n",
       " Paragraph(['\"You needn\\'t say it twice,\" she said.']),\n",
       " Paragraph(['\"Well once,\" said Bones, brightening up.  \"That\\'s a bargain--I\\'ll call', 'you Marguerite once a day.  Now, dear old Marguerite, listen to this.\"']),\n",
       " Paragraph(['She listened with the greatest interest, jotting down the preliminary', 'expenses.  Purchase of steamer, five thousand pounds; provisioning of', 'same, three thousand pounds, etc., etc.  She even undertook to make a', 'copy of the plan which Mr. Dibbs had given into his charge, and which', 'Bones told her had not left him day nor night.']),\n",
       " Paragraph(['\"I put it in my pyjama pocket when I went to bed,\" he explained', 'unnecessarily, \"and----\"  He began to pat himself all over,', 'consternation in his face.']),\n",
       " Paragraph(['\"And you left it in your pyjama pocket,\" said the girl quietly.  \"I\\'ll', 'telephone to your house for it.\"']),\n",
       " Paragraph(['\"Phew!\" said Bones.  \"It seems incredible.  I must have been robbed.\"']),\n",
       " Paragraph(['\"I don\\'t think so,\" said the girl; \"it is probably under your pillow.', 'Do you keep your pyjamas under your pillow?\"']),\n",
       " Paragraph(['\"That,\" said Bones, \"is a matter which I never discuss in public.  I', 'hate to disappoint you, dear old Marguerite----\"']),\n",
       " Paragraph(['\"I\\'m sorry,\" said the girl, with such a simulation of regret that Bones', 'dissolved into a splutter of contrition.']),\n",
       " Paragraph(['A commissionaire and a taxicab brought the plan, which was discovered', 'where the girl in her wisdom had suggested.']),\n",
       " Paragraph(['\"I\\'m not so sure how much money I\\'m going to make out of this,\" said', 'Bones off-handedly, after a thorough and searching examination of the', 'project.  \"It is certain to be about three thousand pounds--it may be a', 'million or two million.  It\\'ll be good for you, dear old stenographer.\"']),\n",
       " Paragraph(['She looked at him.']),\n",
       " Paragraph(['\"I have decided,\" said Bones, playing with his paper-knife, \"to allow', 'you a commission of seven and a half per cent. on all profits.  Seven', 'and a half per cent. on two million is, roughly, fifty thousand', 'pounds----\"']),\n",
       " Paragraph(['She laughed her refusal.']),\n",
       " Paragraph(['\"I like to be fair,\" said Bones.']),\n",
       " Paragraph(['\"You like to be generous,\" she corrected him, \"and because I am a girl,', 'and pretty----\"']),\n",
       " Paragraph(['\"Oh, I say,\" protested Bones feebly--\"oh, really you are not pretty at', 'all.  I am not influenced by your perfectly horrible young face,', \"believe me, dear old Miss Marguerite.  Now, I've a sense of fairness, a\", 'sense of justice----\"']),\n",
       " Paragraph(['\"Now, listen to me, Mr. Tibbetts.\"  She swung her chair round to face', 'him squarely.  \"I\\'ve got to tell you a little story.\"']),\n",
       " Paragraph(['Bones listened to that story with compressed lips and folded arms.  He', 'was neither shocked nor amazed, and the girl was surprised.']),\n",
       " Paragraph(['\"Hold hard, young miss,\" he said soberly.  \"If this is a jolly old', 'swindle, and if the naughty mariner----\"']),\n",
       " Paragraph(['\"His name is Webber, and he is an actor,\" she interrupted.']),\n",
       " Paragraph(['\"And dooced well he acted,\" admitted Bones.  \"Well, if this is so, what', \"about the other johnny who's putting up ten thousand to my fifteen\", 'thousand?\"']),\n",
       " Paragraph(['This was a facer for the girl, and Bones glared his triumph.']),\n",
       " Paragraph(['\"That is what the wicked old ship-sailer said.  Showed me the money,', \"an' I sent him straight off on the job.  He said he'd got a Stock\", 'Exchange person named Morris----\"']),\n",
       " Paragraph(['\"Morris!\" gasped the girl.  \"That is my step-father!\"']),\n",
       " Paragraph(['Bones jumped up, a man inspired.']),\n",
       " Paragraph(['\"The naughty old One, who married your sainted mother?\" he gurgled.', '\"My miss!  My young an\\' jolly old Marguerite!\"']),\n",
       " Paragraph(['He sat down at his desk, yanked open the drawer, and slapped down his', 'cheque-book.']),\n",
       " Paragraph(['\"Three thousand pounds,\" he babbled, writing rapidly.  \"You\\'d better', 'keep it for her, dear old friend of Faust.\"']),\n",
       " Paragraph(['\"But I don\\'t understand,\" she said, bewildered.']),\n",
       " Paragraph(['\"Telegram,\" said Bones briefly.  \"Read it.\"']),\n",
       " Paragraph(['She picked up the buff form and read.  It was postmarked from Cowes,', 'and ran:']),\n",
       " Paragraph([]),\n",
       " Paragraph(['\"In accordance your telegraphed instructions, have sold your', 'schooner-yacht to Mr. Dibbs, who paid cash.  Did not give name of', 'owner.  Dibbs did not ask to see boat.  All he wanted was receipt for', 'money.\"']),\n",
       " Paragraph([]),\n",
       " Paragraph(['\"They are calling this afternoon for my fifteen thousand,\" said Bones,', 'cackling light-headedly.  \"Ring up jolly old Scotland Yard, and ask \\'em', 'to send me all the police they\\'ve got in stock!\"'])]"
      ]
     },
     "execution_count": 10,
     "metadata": {},
     "output_type": "execute_result"
    }
   ],
   "source": [
    "chapter_1 = Chapter(1, 'Bones and Big Business', get_text(82, 762))\n",
    "chapter_2 = Chapter(2, 'Hidden Treassure', get_text(769, 1455))\n",
    "book = Book('Bones in London', 'Edgar Wallace', [chapter_1, chapter_2])\n",
    "\n",
    "empty_book = Book('The Empty Book', 'Helge')\n",
    "\n",
    "print(empty_book)\n",
    "print(book.chapters[1].paragraphs[0])\n",
    "\n",
    "book.chapters[1].paragraphs"
   ]
  },
  {
   "cell_type": "markdown",
   "metadata": {},
   "source": [
    "## Setting a Default Value for an Attribute\n",
    "\n",
    "Every attribute in a class needs an initial value, even if that value is 0 or an empty string. In some cases, such as when setting a default value, it makes sense to specify this initial value in the body of the `__init__()` method; if you do this for an attribute, you do not have to include a parameter for that attribute.\n",
    "\n",
    "Let’s add an attribute called `reading_position` that always starts with a value of `0`. We’ll also add a method `get_reading_position()` that returns a reader's current position in the text."
   ]
  },
  {
   "cell_type": "code",
   "execution_count": 20,
   "metadata": {
    "collapsed": true,
    "slideshow": {
     "slide_type": "slide"
    }
   },
   "outputs": [],
   "source": [
    "class Paragraph():\n",
    "    \"\"\"A paragraph consists of a list of lines.\"\"\"\n",
    "\n",
    "    def __init__(self, lines):\n",
    "        \"\"\"Initialize name and age attributes.\"\"\"\n",
    "        self.lines = lines\n",
    "        self.reading_position = 0\n",
    "        \n",
    "    def read(self):\n",
    "        \"\"\"Simulate reading a paragraph by printing its contents.\"\"\" \n",
    "        # for line in self.lines:\n",
    "        #     print(line)\n",
    "        print(self.lines[self.reading_position])\n",
    "            \n",
    "    def get_reading_position(self):\n",
    "        return self.reading_position"
   ]
  },
  {
   "cell_type": "code",
   "execution_count": 21,
   "metadata": {
    "slideshow": {
     "slide_type": "slide"
    }
   },
   "outputs": [
    {
     "data": {
      "text/plain": [
       "0"
      ]
     },
     "execution_count": 21,
     "metadata": {},
     "output_type": "execute_result"
    }
   ],
   "source": [
    "paragraph = Paragraph([])\n",
    "paragraph.reading_position"
   ]
  },
  {
   "cell_type": "code",
   "execution_count": 22,
   "metadata": {
    "collapsed": true,
    "slideshow": {
     "slide_type": "slide"
    }
   },
   "outputs": [],
   "source": [
    "class Paragraph():\n",
    "    \"\"\"A paragraph consists of a list of lines.\"\"\"\n",
    "\n",
    "    def __init__(self, lines):\n",
    "        \"\"\"Initialize name and age attributes.\"\"\"\n",
    "        self.lines = lines\n",
    "        self.reading_position = 0\n",
    "        \n",
    "    def read(self):\n",
    "        \"\"\"Simulate reading a paragraph by printing its contents.\"\"\" \n",
    "        # for line in self.lines:\n",
    "        #     print(line)\n",
    "        print(self.lines[self.reading_position])\n",
    "\n",
    "    def get_reading_position(self):\n",
    "        return self.reading_position"
   ]
  },
  {
   "cell_type": "code",
   "execution_count": null,
   "metadata": {
    "collapsed": true,
    "slideshow": {
     "slide_type": "slide"
    }
   },
   "outputs": [],
   "source": [
    "paragraph = Paragraph([])\n",
    "paragraph.lines"
   ]
  },
  {
   "cell_type": "code",
   "execution_count": 24,
   "metadata": {
    "slideshow": {
     "slide_type": "slide"
    }
   },
   "outputs": [
    {
     "name": "stdout",
     "output_type": "stream",
     "text": [
      "Her second husband had begun life at the bottom of the ladder as a\n"
     ]
    }
   ],
   "source": [
    "fst_paragraph = Paragraph([\n",
    "    \"Mrs. Staleyborn's first husband was a dreamy Fellow of a Learned\", \n",
    "    'University.']),\n",
    "snd_paragraph = Paragraph([\n",
    "    'Her second husband had begun life at the bottom of the ladder as a', \n",
    "    'three-card trickster, and by strict attention to business and the', \n",
    "    'exercise of his natural genius, had attained to the proprietorship of a', \n",
    "    'bucket-shop.'])\n",
    "snd_paragraph.read()"
   ]
  },
  {
   "cell_type": "markdown",
   "metadata": {
    "slideshow": {
     "slide_type": "slide"
    }
   },
   "source": [
    "## Modifying Attribute Values\n",
    "\n",
    "You can change an attribute’s value in three ways: \n",
    "\n",
    "  * you can change the value directly through an instance, \n",
    "  * set the value through a method, \n",
    "  * or increment the value (add a certain amount to it) through a method. \n",
    " \n",
    "Let’s look at each of these approaches.\n",
    "\n",
    "### Modifying an Attribute’s Value Directly\n",
    "\n",
    "The simplest way to modify the value of an attribute is to access the attribute directly through an instance. Here we set the `reading_position` to `3` directly."
   ]
  },
  {
   "cell_type": "code",
   "execution_count": 25,
   "metadata": {
    "slideshow": {
     "slide_type": "slide"
    }
   },
   "outputs": [
    {
     "data": {
      "text/plain": [
       "3"
      ]
     },
     "execution_count": 25,
     "metadata": {},
     "output_type": "execute_result"
    }
   ],
   "source": [
    "snd_paragraph.reading_position = 3\n",
    "snd_paragraph.get_reading_position()"
   ]
  },
  {
   "cell_type": "markdown",
   "metadata": {
    "slideshow": {
     "slide_type": "slide"
    }
   },
   "source": [
    "### Modifying an Attribute’s Value Through a Method\n",
    "\n",
    "It can be helpful to have methods that update certain attributes for you. Instead of accessing the attribute directly, you pass the new value to a method that handles the updating internally.\n",
    "\n",
    "We can extend the method `update_reading_position(self, new_position)` to do additional work every time the reading position is modified. Let’s add a little logic to make sure no one tries to set the reading position beyond a paragraph's limit."
   ]
  },
  {
   "cell_type": "code",
   "execution_count": 27,
   "metadata": {
    "collapsed": true,
    "slideshow": {
     "slide_type": "slide"
    }
   },
   "outputs": [],
   "source": [
    "class Paragraph():\n",
    "    \"\"\"A paragraph consists of a list of lines.\"\"\"\n",
    "\n",
    "    def __init__(self, lines):\n",
    "        \"\"\"Initialize name and age attributes.\"\"\"\n",
    "        self.lines = lines\n",
    "        self.reading_position = 0\n",
    "        \n",
    "    def read(self):\n",
    "        \"\"\"Simulate reading a paragraph by printing its contents.\"\"\" \n",
    "        # for line in self.lines:\n",
    "        #     print(line)\n",
    "        print(self.lines[self.reading_position])\n",
    "\n",
    "    def get_reading_position(self):\n",
    "        return self.reading_position\n",
    "    \n",
    "    def update_reading_position(self, new_position):\n",
    "        if new_position <= len(self.lines) - 1:\n",
    "            self.reading_position = new_position\n",
    "    \n",
    "    \n",
    "snd_paragraph = Paragraph([\n",
    "    'Her second husband had begun life at the bottom of the ladder as a', \n",
    "    'three-card trickster, and by strict attention to business and the', \n",
    "    'exercise of his natural genius, had attained to the proprietorship of a', \n",
    "    'bucket-shop.'])"
   ]
  },
  {
   "cell_type": "code",
   "execution_count": 28,
   "metadata": {
    "slideshow": {
     "slide_type": "slide"
    }
   },
   "outputs": [
    {
     "name": "stdout",
     "output_type": "stream",
     "text": [
      "0\n",
      "3\n",
      "bucket-shop.\n"
     ]
    }
   ],
   "source": [
    "print(snd_paragraph.get_reading_position())\n",
    "\n",
    "snd_paragraph.update_reading_position(3)\n",
    "\n",
    "print(snd_paragraph.get_reading_position())\n",
    "\n",
    "snd_paragraph.read()"
   ]
  },
  {
   "cell_type": "markdown",
   "metadata": {
    "slideshow": {
     "slide_type": "slide"
    }
   },
   "source": [
    "### Incrementing an Attribute’s Value Through a Method\n",
    "\n",
    "Sometimes you may want to increment an attribute’s value by a certain amount rather than set an entirely new value. Say we want to scroll through a paragraph, where a method allows us to pass to incrementally modify the reading position."
   ]
  },
  {
   "cell_type": "code",
   "execution_count": 29,
   "metadata": {
    "collapsed": true,
    "slideshow": {
     "slide_type": "slide"
    }
   },
   "outputs": [],
   "source": [
    "class Paragraph():\n",
    "    \"\"\"A paragraph consists of a list of lines.\"\"\"\n",
    "\n",
    "    def __init__(self, lines):\n",
    "        \"\"\"Initialize name and age attributes.\"\"\"\n",
    "        self.lines = lines\n",
    "        self.reading_position = 0\n",
    "        \n",
    "    def read(self):\n",
    "        \"\"\"Simulate reading a paragraph by printing its contents.\"\"\" \n",
    "        # for line in self.lines:\n",
    "        #     print(line)\n",
    "        print(self.lines[self.reading_position])\n",
    "\n",
    "    def get_reading_position(self):\n",
    "        return self.reading_position\n",
    "    \n",
    "    def update_reading_position(self, new_position):\n",
    "        if new_position <= len(self.lines) - 1:\n",
    "            self.reading_position = new_position\n",
    "            \n",
    "    def scroll_down(self):\n",
    "        if self.reading_position < len(self.lines) - 1:\n",
    "            self.reading_position += 1\n",
    "        else:\n",
    "            self.reading_position = 0\n",
    "            \n",
    "    def scroll_up(self):\n",
    "        if self.reading_position >= 1:\n",
    "            self.reading_position -= 1\n",
    "        else:\n",
    "            self.reading_position = len(self.lines) - 1\n",
    "    \n",
    "snd_paragraph = Paragraph([\n",
    "    'Her second husband had begun life at the bottom of the ladder as a', \n",
    "    'three-card trickster, and by strict attention to business and the', \n",
    "    'exercise of his natural genius, had attained to the proprietorship of a', \n",
    "    'bucket-shop.'])"
   ]
  },
  {
   "cell_type": "code",
   "execution_count": 30,
   "metadata": {
    "slideshow": {
     "slide_type": "slide"
    }
   },
   "outputs": [
    {
     "name": "stdout",
     "output_type": "stream",
     "text": [
      "Her second husband had begun life at the bottom of the ladder as a\n",
      "three-card trickster, and by strict attention to business and the\n",
      "exercise of his natural genius, had attained to the proprietorship of a\n",
      "bucket-shop.\n",
      "Her second husband had begun life at the bottom of the ladder as a\n"
     ]
    }
   ],
   "source": [
    "snd_paragraph.read()\n",
    "\n",
    "snd_paragraph.scroll_down()\n",
    "snd_paragraph.read()\n",
    "\n",
    "snd_paragraph.scroll_down()\n",
    "snd_paragraph.read()\n",
    "\n",
    "snd_paragraph.scroll_down()\n",
    "snd_paragraph.read()\n",
    "\n",
    "snd_paragraph.scroll_down()\n",
    "snd_paragraph.read()"
   ]
  },
  {
   "cell_type": "code",
   "execution_count": null,
   "metadata": {
    "collapsed": true,
    "slideshow": {
     "slide_type": "slide"
    }
   },
   "outputs": [],
   "source": [
    "snd_paragraph.read()\n",
    "\n",
    "snd_paragraph.scroll_up()\n",
    "snd_paragraph.read()\n",
    "\n",
    "snd_paragraph.scroll_up()\n",
    "snd_paragraph.read()\n",
    "\n",
    "snd_paragraph.scroll_up()\n",
    "snd_paragraph.read()"
   ]
  },
  {
   "cell_type": "markdown",
   "metadata": {
    "slideshow": {
     "slide_type": "slide"
    }
   },
   "source": [
    "### Private Attributes???\n",
    "\n",
    "You can use methods as shown above to control how users of your program update values, such as the reading position, but anyone with access to the program can set any attribute to any value by accessing it directly.\n",
    "\n",
    "In Python, there is no concept of private fields. That is, the interpreter will not stop you from modifying whatever you are 'touching'.\n",
    "\n",
    "A good practice is to *mark* your attributes and methodss as private by a leading underscore. However, this is only a visual marker for others using your code that you do not intend them to access the corresponding fields."
   ]
  },
  {
   "cell_type": "code",
   "execution_count": 31,
   "metadata": {
    "collapsed": true,
    "slideshow": {
     "slide_type": "slide"
    }
   },
   "outputs": [],
   "source": [
    "class Paragraph():\n",
    "    \"\"\"A paragraph consists of a list of lines.\"\"\"\n",
    "\n",
    "    def __init__(self, lines):\n",
    "        \"\"\"Initialize name and age attributes.\"\"\"\n",
    "        self.lines = lines\n",
    "        self._reading_position = 0\n",
    "        \n",
    "    def read(self):\n",
    "        \"\"\"Simulate reading a paragraph by printing its contents.\"\"\" \n",
    "        print(self.lines[self._reading_position])\n",
    "\n",
    "    def get_reading_position(self):\n",
    "        return self._reading_position\n",
    "    \n",
    "    def _update_reading_position(self, new_position):\n",
    "        if new_position <= len(self.lines) - 1:\n",
    "            self._reading_position = new_position\n",
    "            \n",
    "    def scroll_down(self):\n",
    "        if self._reading_position < len(self.lines) - 1:\n",
    "            self._reading_position += 1\n",
    "        else:\n",
    "            self._reading_position = 0\n",
    "            \n",
    "    def scroll_up(self):\n",
    "        if self._reading_position >= 1:\n",
    "            self._reading_position -= 1\n",
    "        else:\n",
    "            self._reading_position = len(self.lines) - 1\n",
    "    \n",
    "snd_paragraph = Paragraph([\n",
    "    'Her second husband had begun life at the bottom of the ladder as a', \n",
    "    'three-card trickster, and by strict attention to business and the', \n",
    "    'exercise of his natural genius, had attained to the proprietorship of a', \n",
    "    'bucket-shop.'])"
   ]
  },
  {
   "cell_type": "code",
   "execution_count": 32,
   "metadata": {
    "slideshow": {
     "slide_type": "slide"
    }
   },
   "outputs": [
    {
     "name": "stdout",
     "output_type": "stream",
     "text": [
      "0\n",
      "0\n",
      "3\n",
      "bucket-shop.\n"
     ]
    }
   ],
   "source": [
    "# This is now discouraged!\n",
    "print(snd_paragraph._reading_position)\n",
    "\n",
    "# Better use the 'public' methods\n",
    "print(snd_paragraph.get_reading_position())\n",
    "\n",
    "# discouraged too, but possible\n",
    "snd_paragraph._update_reading_position(3)\n",
    "\n",
    "print(snd_paragraph.get_reading_position())\n",
    "\n",
    "snd_paragraph.read()"
   ]
  },
  {
   "cell_type": "markdown",
   "metadata": {
    "slideshow": {
     "slide_type": "slide"
    }
   },
   "source": [
    "# Inheritance\n",
    "\n",
    "You do not always have to start from scratch when writing a class. If the class you are writing is a specialized version of another -readily available- class, you can use inheritance to implement your extensions. \n",
    "\n",
    "When one class inherits from another, it automatically takes on all the attributes and methods of the first class. The original class is called the *parent class*, and the new class is the *child class*. The child class inherits every attribute and method from its parent class but is also free to define new attributes and methods of its own.\n",
    "\n",
    "\n",
    "## The __init__() Method for a Child Class\n",
    "\n",
    "The first task Python has when creating an instance from a child class is to assign values to all attributes in the parent class. To do this, the `__init__()` method for a child class needs help from its parent class.\n",
    "\n",
    "As an example, let’s model a comic book. A comic book is just a specific kind of book, with less text and more images :). Consequently, we can base our new `ComicBook` class on the `Book` class we wrote earlier. Then we’ll only have to write code for the attributes and behavior specific to comic books.\n",
    "\n",
    "When you create a child class, the parent class **must be part of the current file and must appear before the child class in the file**. The name of the parent class must be included in parentheses in the definition of the child class. The `__init__()` method takes the information required to make a `ComicBook` instance.\n",
    "\n",
    "The `super()` function is a special function that helps Python make connections between the parent and child class. It tells Python to call the `__init__()` method from `ComicBook`’s parent class, which gives a `ComicBook` instance all the attributes of its parent class. The name super comes from a convention of calling the parent class a **superclass** and the child class a **subclass**."
   ]
  },
  {
   "cell_type": "code",
   "execution_count": 8,
   "metadata": {
    "slideshow": {
     "slide_type": "slide"
    }
   },
   "outputs": [],
   "source": [
    "class Book():\n",
    "    \"\"\"A simple book model consisting of chapters, which in \n",
    "    turn consist of paragraphs.\"\"\"\n",
    "\n",
    "    def __init__(self, title, author, chapters=[]):\n",
    "        \"\"\"Initialize title, the author, and the chapters.\"\"\"\n",
    "        self.title = title \n",
    "        self.author = author\n",
    "        self.chapters = chapters        \n",
    "    \n",
    "    def __repr__(self):\n",
    "        return 'Book(%r, %r, %r)' % (self.title, self.author, \n",
    "                                     self.chapters)\n",
    "    \n",
    "    def __str__(self):\n",
    "        return '{name} by {by} has {nr_chap} chapters.'.format(\n",
    "            name=self.title, by=self.author, nr_chap=len(self.chapters))\n",
    "    \n",
    "    \n",
    "    def read(self, chapter=1):\n",
    "        \"\"\"Simulate reading a chapter, by calling the reading \n",
    "        method of a chapter.\"\"\" \n",
    "        self.chapters[chapter - 1].read()\n",
    "        \n",
    "    def open_book(self, chapter=1):\n",
    "        \"\"\"Simulate opening a book, which returns a chapter \n",
    "        object.\"\"\" \n",
    "        return self.chapters[chapter - 1]\n",
    "    \n",
    "    \n",
    "class ComicBook(Book):\n",
    "    def __init__(self, title, author, chapters=[]):\n",
    "        \"\"\"Initialize attributes of the parent class.\"\"\"\n",
    "        super().__init__(title, author, chapters=chapters)"
   ]
  },
  {
   "cell_type": "code",
   "execution_count": null,
   "metadata": {
    "collapsed": true,
    "slideshow": {
     "slide_type": "slide"
    }
   },
   "outputs": [],
   "source": [
    "comic = ComicBook('Le Grand Mort', 'Loisel')\n",
    "comic.title"
   ]
  },
  {
   "cell_type": "markdown",
   "metadata": {
    "slideshow": {
     "slide_type": "slide"
    }
   },
   "source": [
    "## Defining Attributes and Methods for the Child Class\n",
    "\n",
    "Once you have a child class that inherits from a parent class, you can add any new attributes and methods necessary to differentiate the child class from the parent class.\n",
    "\n",
    "Let’s add an attribute that is specific to comic books, such as, images, and a method to report on this attribute."
   ]
  },
  {
   "cell_type": "code",
   "execution_count": 9,
   "metadata": {
    "slideshow": {
     "slide_type": "slide"
    }
   },
   "outputs": [],
   "source": [
    "class ComicBook(Book):\n",
    "    def __init__(self, title, author, chapters=[]):\n",
    "        \"\"\"Initialize attributes of the parent class.\"\"\"\n",
    "        super().__init__(title, author, chapters=chapters)\n",
    "        self.images = []\n",
    "        \n",
    "    def get_images(self):\n",
    "        return self.images"
   ]
  },
  {
   "cell_type": "markdown",
   "metadata": {
    "slideshow": {
     "slide_type": "slide"
    }
   },
   "source": [
    "There is no limit to how much you can specialize the `ComicBook` class. You can add as many attributes and methods as you need to model acomic book to whatever degree of accuracy you need. An attribute or method that could belong to any book, rather than one that is specific to a comic book, should be added to the `Book` class instead of the `ComicBook` class. Then anyone who uses the `Book` class will have that functionality available as well, and the `ComicBook` class will only contain code for the information and behavior specific to comic books.\n",
    "\n",
    "## Overriding Methods from the Parent Class\n",
    "\n",
    "You can override any method from the parent class that does not fit what you are trying to model with the child class. To do this, you define a method in the child class with **the same name as the method you want to override in the parent class**. Python will disregard the parent class method and only pay attention to the method you define in the child class.\n",
    "\n",
    "In the above example, we have to override the method `__repr__` to get the correct representation of a comic book.\n",
    "\n",
    "Now if someone inspects or tries to call `__repr__()` with on a comic book, Python will ignore the method `__repr__()` in `Book` and run this code instead. When you use inheritance, you can make your child classes retain what you need and override anything you do not need from the parent class."
   ]
  },
  {
   "cell_type": "code",
   "execution_count": null,
   "metadata": {
    "collapsed": true,
    "slideshow": {
     "slide_type": "slide"
    }
   },
   "outputs": [],
   "source": [
    "comic = ComicBook('Le Grand Mort', 'Loisel')\n",
    "comic"
   ]
  },
  {
   "cell_type": "code",
   "execution_count": null,
   "metadata": {
    "collapsed": true,
    "slideshow": {
     "slide_type": "slide"
    }
   },
   "outputs": [],
   "source": [
    "class ComicBook(Book):\n",
    "    def __init__(self, title, author, chapters=[]):\n",
    "        \"\"\"Initialize attributes of the parent class.\"\"\"\n",
    "        super().__init__(title, author, chapters=chapters)\n",
    "        self.images = []\n",
    "        \n",
    "    def get_images(self):\n",
    "        return self.images\n",
    "    \n",
    "    def __repr__(self):\n",
    "        return 'ComicBook(%r, %r, %r)' % (self.title, self.author, \n",
    "                                     self.chapters)"
   ]
  },
  {
   "cell_type": "code",
   "execution_count": null,
   "metadata": {
    "collapsed": true,
    "slideshow": {
     "slide_type": "slide"
    }
   },
   "outputs": [],
   "source": [
    "comic = ComicBook('Le Grand Mort', 'Loisel')\n",
    "comic"
   ]
  },
  {
   "cell_type": "markdown",
   "metadata": {
    "slideshow": {
     "slide_type": "slide"
    }
   },
   "source": [
    "## Checking *instance of* Relationships\n",
    "\n",
    "Sometimes, during development, you would like to know of which class a certain variable is instance of. You can do so with the built-in method `isinstance()` as illustrated in the following. However, usually you will not need this function in your programs as Python supports *duck-typing*. "
   ]
  },
  {
   "cell_type": "code",
   "execution_count": 34,
   "metadata": {
    "slideshow": {
     "slide_type": "slide"
    }
   },
   "outputs": [
    {
     "data": {
      "text/plain": [
       "True"
      ]
     },
     "execution_count": 34,
     "metadata": {},
     "output_type": "execute_result"
    }
   ],
   "source": [
    "isinstance(ComicBook('Le Grand Mort', 'Loisel'), ComicBook)"
   ]
  },
  {
   "cell_type": "code",
   "execution_count": 35,
   "metadata": {
    "slideshow": {
     "slide_type": "slide"
    }
   },
   "outputs": [
    {
     "data": {
      "text/plain": [
       "True"
      ]
     },
     "execution_count": 35,
     "metadata": {},
     "output_type": "execute_result"
    }
   ],
   "source": [
    "isinstance(ComicBook('Le Grand Mort', 'Loisel'), Book)"
   ]
  },
  {
   "cell_type": "markdown",
   "metadata": {
    "slideshow": {
     "slide_type": "slide"
    }
   },
   "source": [
    "# Importing Classes\n",
    "\n",
    "As you add more functionality to your classes, your files can get long, even when you use inheritance properly. In keeping with the overall philosophy of Python, you will want to keep your files as uncluttered as possible. To help, Python lets you store classes in modules and then import the classes you need into your main program.\n",
    "\n",
    "You can store as many classes as you need in a single module, although each class in a module should be related somehow.\n",
    "\n",
    "## Importing a Single Class or Multiple Classes\n",
    "\n",
    "We include a module-level docstring that briefly describes the contents of this module. You should write a docstring for each module you create.\n",
    "\n",
    "Now we make a separate file called `book.py`. From this file will import the `Book` class and then create an instance from that class.\n",
    "\n",
    "You can import as many classes as you need into a program file. If we want to make a regular car and an electric car in the same file, we need to import both classes, Car and ElectricCar\n",
    "\n",
    "\n"
   ]
  },
  {
   "cell_type": "code",
   "execution_count": 8,
   "metadata": {
    "slideshow": {
     "slide_type": "slide"
    }
   },
   "outputs": [
    {
     "name": "stdout",
     "output_type": "stream",
     "text": [
      "The autoreload extension is already loaded. To reload it, use:\n",
      "  %reload_ext autoreload\n"
     ]
    }
   ],
   "source": [
    "%load_ext autoreload\n",
    "# reloads modules automatically before entering the execution of code typed at the IPython prompt"
   ]
  },
  {
   "cell_type": "code",
   "execution_count": 11,
   "metadata": {
    "slideshow": {
     "slide_type": "slide"
    }
   },
   "outputs": [],
   "source": [
    "%autoreload 2 # %autoreload 2 - Reload all modules (except those excluded by %aimport) every time before executing the Python code typed.\n",
    "\n",
    "from book import Book"
   ]
  },
  {
   "cell_type": "code",
   "execution_count": 14,
   "metadata": {
    "slideshow": {
     "slide_type": "slide"
    }
   },
   "outputs": [],
   "source": [
    "Book?"
   ]
  },
  {
   "cell_type": "code",
   "execution_count": 16,
   "metadata": {
    "slideshow": {
     "slide_type": "slide"
    }
   },
   "outputs": [
    {
     "ename": "NameError",
     "evalue": "name 'get_text' is not defined",
     "output_type": "error",
     "traceback": [
      "\u001b[0;31m---------------------------------------------------------------------------\u001b[0m",
      "\u001b[0;31mNameError\u001b[0m                                 Traceback (most recent call last)",
      "\u001b[0;32m<ipython-input-16-ff65ae7429fe>\u001b[0m in \u001b[0;36m<module>\u001b[0;34m\u001b[0m\n\u001b[1;32m      1\u001b[0m \u001b[0;32mfrom\u001b[0m \u001b[0mbook\u001b[0m \u001b[0;32mimport\u001b[0m \u001b[0mBook\u001b[0m\u001b[0;34m,\u001b[0m \u001b[0mChapter\u001b[0m\u001b[0;34m,\u001b[0m \u001b[0mParagraph\u001b[0m\u001b[0;34m\u001b[0m\u001b[0;34m\u001b[0m\u001b[0m\n\u001b[1;32m      2\u001b[0m \u001b[0;34m\u001b[0m\u001b[0m\n\u001b[0;32m----> 3\u001b[0;31m \u001b[0mchapter_1\u001b[0m \u001b[0;34m=\u001b[0m \u001b[0mChapter\u001b[0m\u001b[0;34m(\u001b[0m\u001b[0;36m1\u001b[0m\u001b[0;34m,\u001b[0m \u001b[0;34m'Bones and Big Business'\u001b[0m\u001b[0;34m,\u001b[0m \u001b[0mget_text\u001b[0m\u001b[0;34m(\u001b[0m\u001b[0;36m82\u001b[0m\u001b[0;34m,\u001b[0m \u001b[0;36m762\u001b[0m\u001b[0;34m)\u001b[0m\u001b[0;34m)\u001b[0m\u001b[0;34m\u001b[0m\u001b[0;34m\u001b[0m\u001b[0m\n\u001b[0m\u001b[1;32m      4\u001b[0m \u001b[0mchapter_2\u001b[0m \u001b[0;34m=\u001b[0m \u001b[0mChapter\u001b[0m\u001b[0;34m(\u001b[0m\u001b[0;36m2\u001b[0m\u001b[0;34m,\u001b[0m \u001b[0;34m'Hidden Treassure'\u001b[0m\u001b[0;34m,\u001b[0m \u001b[0mget_text\u001b[0m\u001b[0;34m(\u001b[0m\u001b[0;36m769\u001b[0m\u001b[0;34m,\u001b[0m \u001b[0;36m1455\u001b[0m\u001b[0;34m)\u001b[0m\u001b[0;34m)\u001b[0m\u001b[0;34m\u001b[0m\u001b[0;34m\u001b[0m\u001b[0m\n\u001b[1;32m      5\u001b[0m \u001b[0mbook\u001b[0m \u001b[0;34m=\u001b[0m \u001b[0mBook\u001b[0m\u001b[0;34m(\u001b[0m\u001b[0;34m'Bones in London'\u001b[0m\u001b[0;34m,\u001b[0m \u001b[0;34m'Edgar Wallace'\u001b[0m\u001b[0;34m,\u001b[0m \u001b[0;34m[\u001b[0m\u001b[0mchapter_1\u001b[0m\u001b[0;34m,\u001b[0m \u001b[0mchapter_2\u001b[0m\u001b[0;34m]\u001b[0m\u001b[0;34m)\u001b[0m\u001b[0;34m\u001b[0m\u001b[0;34m\u001b[0m\u001b[0m\n",
      "\u001b[0;31mNameError\u001b[0m: name 'get_text' is not defined"
     ]
    }
   ],
   "source": [
    "from book import Book, Chapter, Paragraph\n",
    "\n",
    "chapter_1 = Chapter(1, 'Bones and Big Business', get_text(82, 762))\n",
    "chapter_2 = Chapter(2, 'Hidden Treassure', get_text(769, 1455))\n",
    "book = Book('Bones in London', 'Edgar Wallace', [chapter_1, chapter_2])\n",
    "\n",
    "book"
   ]
  },
  {
   "cell_type": "markdown",
   "metadata": {
    "slideshow": {
     "slide_type": "slide"
    }
   },
   "source": [
    "## Importing an Entire Module\n",
    "\n",
    "You can import every class from a module using the following syntax:\n",
    "\n",
    "```python\n",
    "from module_name import *\n",
    "```\n",
    "\n",
    "This method is **not** recommended for two reasons: \n",
    "\n",
    "  * It is helpful to be able to read the import statements at the top of a file and get a clear sense of which classes a program uses. With this approach it is unclear which classes you are using from the module. This approach can also lead to confusion with names in the file. If you accidentally import a class with the same name as something else in your program file, you can create errors that are hard to diagnose. I show this here because even though it is not a recommended approach, you are likely to see it in other people’s code.\n",
    "\n",
    "If you need to import many classes from a module, you are better off importing the entire module and using the `module_name.class_name` syntax.\n",
    "\n",
    "You will not see all the classes used at the top of the file, but you will see clearly where the module is used in the program. You will also avoid the potential naming conflicts that can arise when you import every class in a module.\n"
   ]
  },
  {
   "cell_type": "markdown",
   "metadata": {
    "collapsed": true,
    "slideshow": {
     "slide_type": "slide"
    }
   },
   "source": [
    "# Exercises\n",
    "\n",
    "  1. Create a Python module, which consists of a class TextContainer. The class shall implement methods for computing statistics on texts.\n",
    "    * Counting the amount of words used in a text.\n",
    "    * Counting the amount of chars used in a text.\n",
    "    * Counting the amount of letters, where letters are all ASCII characters, see \n",
    "    ```python\n",
    "    import string\n",
    "    string.ascii_letters  # returns 'abcdefghijklmnopqrstuvwxyzABCDEFGHIJKLMNOPQRSTUVWXYZ'\n",
    "    ```\n",
    "    * Remove all punctuation characters, see\n",
    "    ```python\n",
    "    import string\n",
    "    string.punctuation  # returns '!\"#$%&\\'()*+,-./:;<=>?@[\\\\]^_`{|}~'\n",
    "    ```"
   ]
  }
 ],
 "metadata": {
  "celltoolbar": "Slideshow",
  "kernelspec": {
   "display_name": "Python 3",
   "language": "python",
   "name": "python3"
  },
  "language_info": {
   "codemirror_mode": {
    "name": "ipython",
    "version": 3
   },
   "file_extension": ".py",
   "mimetype": "text/x-python",
   "name": "python",
   "nbconvert_exporter": "python",
   "pygments_lexer": "ipython3",
   "version": "3.6.9"
  }
 },
 "nbformat": 4,
 "nbformat_minor": 2
}
